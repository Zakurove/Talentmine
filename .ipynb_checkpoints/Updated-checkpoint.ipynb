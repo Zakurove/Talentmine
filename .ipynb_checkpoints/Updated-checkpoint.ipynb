{
 "cells": [
  {
   "cell_type": "markdown",
   "id": "2816d79b-65d7-4a6c-8e99-c70d5b8eeeef",
   "metadata": {},
   "source": [
    "# Let's take on this challenge of new beinnings!"
   ]
  },
  {
   "cell_type": "markdown",
   "id": "04ee715c-90f5-48fd-9385-c79f8b0566b2",
   "metadata": {},
   "source": [
    "## Importing the Libraries"
   ]
  },
  {
   "cell_type": "code",
   "execution_count": 51,
   "id": "20765f22-ad51-4d49-baaa-376163e4c99d",
   "metadata": {},
   "outputs": [],
   "source": [
    "import numpy as np\n",
    "import matplotlib.pyplot as plt\n",
    "import pandas as pd\n",
    "from sklearn.decomposition import PCA\n",
    "from sklearn.model_selection import ParameterGrid\n",
    "from sklearn.cluster import KMeans\n",
    "from sklearn import metrics"
   ]
  },
  {
   "cell_type": "markdown",
   "id": "49853123-d7ad-4eaf-85d2-8188896b7722",
   "metadata": {},
   "source": [
    "## Now we add the dataset"
   ]
  },
  {
   "cell_type": "code",
   "execution_count": 40,
   "id": "ce7546ad-fa6a-4fd8-9e50-9e48e20ef897",
   "metadata": {},
   "outputs": [],
   "source": [
    "path = \"DataKMean.csv\""
   ]
  },
  {
   "cell_type": "code",
   "execution_count": 27,
   "id": "61078a6e-7733-4dec-9a4e-c16ba15ecdd1",
   "metadata": {},
   "outputs": [
    {
     "data": {
      "text/html": [
       "<div>\n",
       "<style scoped>\n",
       "    .dataframe tbody tr th:only-of-type {\n",
       "        vertical-align: middle;\n",
       "    }\n",
       "\n",
       "    .dataframe tbody tr th {\n",
       "        vertical-align: top;\n",
       "    }\n",
       "\n",
       "    .dataframe thead th {\n",
       "        text-align: right;\n",
       "    }\n",
       "</style>\n",
       "<table border=\"1\" class=\"dataframe\">\n",
       "  <thead>\n",
       "    <tr style=\"text-align: right;\">\n",
       "      <th></th>\n",
       "      <th>Test_age_T1</th>\n",
       "      <th>Body_height_cm_T1</th>\n",
       "      <th>Sitting_height_cm_T1</th>\n",
       "      <th>Arm_span_cm_T1</th>\n",
       "      <th>Arm_length_cm_T1</th>\n",
       "      <th>Leg_length_cm_T1</th>\n",
       "      <th>Chest_girth_cm_T1</th>\n",
       "      <th>Shoulder_width_cm_T1</th>\n",
       "      <th>Crista_width_cm_T1</th>\n",
       "      <th>Calf_girth_cm_T1</th>\n",
       "      <th>Thigh_circumference_cm_T1</th>\n",
       "      <th>Waist_girth_cm_T1</th>\n",
       "      <th>LowerLeg_length_cm_T1</th>\n",
       "      <th>Ankle_circumference_cm_T1</th>\n",
       "      <th>Subscapular_angle_mm_T1</th>\n",
       "      <th>Abdomen_mm_T1</th>\n",
       "      <th>Upper_arm_mm_T1</th>\n",
       "      <th>Tendon_length_cm_T1</th>\n",
       "      <th>Body_weight_kg_T1</th>\n",
       "    </tr>\n",
       "  </thead>\n",
       "  <tbody>\n",
       "    <tr>\n",
       "      <th>0</th>\n",
       "      <td>172</td>\n",
       "      <td>181.8</td>\n",
       "      <td>91.8</td>\n",
       "      <td>184.0</td>\n",
       "      <td>78.4</td>\n",
       "      <td>97.3</td>\n",
       "      <td>79.2</td>\n",
       "      <td>36.2</td>\n",
       "      <td>27.7</td>\n",
       "      <td>33.0</td>\n",
       "      <td>47.3</td>\n",
       "      <td>68.0</td>\n",
       "      <td>51.2</td>\n",
       "      <td>20.8</td>\n",
       "      <td>5.0</td>\n",
       "      <td>9.5</td>\n",
       "      <td>10.0</td>\n",
       "      <td>28.8</td>\n",
       "      <td>57.1</td>\n",
       "    </tr>\n",
       "    <tr>\n",
       "      <th>1</th>\n",
       "      <td>172</td>\n",
       "      <td>170.7</td>\n",
       "      <td>91.3</td>\n",
       "      <td>169.8</td>\n",
       "      <td>70.2</td>\n",
       "      <td>88.2</td>\n",
       "      <td>81.1</td>\n",
       "      <td>37.1</td>\n",
       "      <td>28.3</td>\n",
       "      <td>35.5</td>\n",
       "      <td>49.5</td>\n",
       "      <td>67.2</td>\n",
       "      <td>44.0</td>\n",
       "      <td>21.7</td>\n",
       "      <td>7.5</td>\n",
       "      <td>9.0</td>\n",
       "      <td>8.5</td>\n",
       "      <td>23.0</td>\n",
       "      <td>56.3</td>\n",
       "    </tr>\n",
       "    <tr>\n",
       "      <th>2</th>\n",
       "      <td>178</td>\n",
       "      <td>183.0</td>\n",
       "      <td>94.1</td>\n",
       "      <td>181.4</td>\n",
       "      <td>76.8</td>\n",
       "      <td>95.8</td>\n",
       "      <td>80.0</td>\n",
       "      <td>39.4</td>\n",
       "      <td>28.2</td>\n",
       "      <td>34.8</td>\n",
       "      <td>50.0</td>\n",
       "      <td>69.8</td>\n",
       "      <td>49.6</td>\n",
       "      <td>21.6</td>\n",
       "      <td>6.0</td>\n",
       "      <td>7.0</td>\n",
       "      <td>8.5</td>\n",
       "      <td>24.2</td>\n",
       "      <td>58.9</td>\n",
       "    </tr>\n",
       "    <tr>\n",
       "      <th>3</th>\n",
       "      <td>178</td>\n",
       "      <td>184.2</td>\n",
       "      <td>93.0</td>\n",
       "      <td>188.8</td>\n",
       "      <td>82.4</td>\n",
       "      <td>99.6</td>\n",
       "      <td>78.3</td>\n",
       "      <td>36.4</td>\n",
       "      <td>27.9</td>\n",
       "      <td>33.1</td>\n",
       "      <td>47.3</td>\n",
       "      <td>66.1</td>\n",
       "      <td>51.6</td>\n",
       "      <td>24.2</td>\n",
       "      <td>6.0</td>\n",
       "      <td>7.5</td>\n",
       "      <td>9.0</td>\n",
       "      <td>26.1</td>\n",
       "      <td>57.0</td>\n",
       "    </tr>\n",
       "    <tr>\n",
       "      <th>4</th>\n",
       "      <td>184</td>\n",
       "      <td>184.7</td>\n",
       "      <td>96.6</td>\n",
       "      <td>183.5</td>\n",
       "      <td>78.7</td>\n",
       "      <td>97.0</td>\n",
       "      <td>91.8</td>\n",
       "      <td>37.7</td>\n",
       "      <td>26.8</td>\n",
       "      <td>34.6</td>\n",
       "      <td>50.8</td>\n",
       "      <td>68.0</td>\n",
       "      <td>49.0</td>\n",
       "      <td>21.0</td>\n",
       "      <td>5.5</td>\n",
       "      <td>8.0</td>\n",
       "      <td>10.0</td>\n",
       "      <td>24.9</td>\n",
       "      <td>63.1</td>\n",
       "    </tr>\n",
       "  </tbody>\n",
       "</table>\n",
       "</div>"
      ],
      "text/plain": [
       "   Test_age_T1  Body_height_cm_T1  Sitting_height_cm_T1  Arm_span_cm_T1  \\\n",
       "0          172              181.8                  91.8           184.0   \n",
       "1          172              170.7                  91.3           169.8   \n",
       "2          178              183.0                  94.1           181.4   \n",
       "3          178              184.2                  93.0           188.8   \n",
       "4          184              184.7                  96.6           183.5   \n",
       "\n",
       "   Arm_length_cm_T1  Leg_length_cm_T1  Chest_girth_cm_T1  \\\n",
       "0              78.4              97.3               79.2   \n",
       "1              70.2              88.2               81.1   \n",
       "2              76.8              95.8               80.0   \n",
       "3              82.4              99.6               78.3   \n",
       "4              78.7              97.0               91.8   \n",
       "\n",
       "   Shoulder_width_cm_T1  Crista_width_cm_T1  Calf_girth_cm_T1  \\\n",
       "0                  36.2                27.7              33.0   \n",
       "1                  37.1                28.3              35.5   \n",
       "2                  39.4                28.2              34.8   \n",
       "3                  36.4                27.9              33.1   \n",
       "4                  37.7                26.8              34.6   \n",
       "\n",
       "   Thigh_circumference_cm_T1  Waist_girth_cm_T1  LowerLeg_length_cm_T1  \\\n",
       "0                       47.3               68.0                   51.2   \n",
       "1                       49.5               67.2                   44.0   \n",
       "2                       50.0               69.8                   49.6   \n",
       "3                       47.3               66.1                   51.6   \n",
       "4                       50.8               68.0                   49.0   \n",
       "\n",
       "   Ankle_circumference_cm_T1  Subscapular_angle_mm_T1  Abdomen_mm_T1  \\\n",
       "0                       20.8                      5.0            9.5   \n",
       "1                       21.7                      7.5            9.0   \n",
       "2                       21.6                      6.0            7.0   \n",
       "3                       24.2                      6.0            7.5   \n",
       "4                       21.0                      5.5            8.0   \n",
       "\n",
       "   Upper_arm_mm_T1  Tendon_length_cm_T1  Body_weight_kg_T1  \n",
       "0             10.0                 28.8               57.1  \n",
       "1              8.5                 23.0               56.3  \n",
       "2              8.5                 24.2               58.9  \n",
       "3              9.0                 26.1               57.0  \n",
       "4             10.0                 24.9               63.1  "
      ]
     },
     "execution_count": 27,
     "metadata": {},
     "output_type": "execute_result"
    }
   ],
   "source": [
    "dataset = pd.read_csv(path)\n",
    "dataset.head()"
   ]
  },
  {
   "cell_type": "code",
   "execution_count": null,
   "id": "5618683a-e343-42bf-b459-3533391523b1",
   "metadata": {},
   "outputs": [],
   "source": []
  },
  {
   "cell_type": "markdown",
   "id": "d7291afb-982a-47b5-b685-adc40da8635e",
   "metadata": {},
   "source": [
    "## Data Preprocessing"
   ]
  },
  {
   "cell_type": "code",
   "execution_count": 28,
   "id": "acf4a1c0-1ddf-4c8c-91e3-7e5b98d1a60f",
   "metadata": {},
   "outputs": [],
   "source": [
    "#from sklearn.preprocessing import LabelEncoder\n",
    "#from sklearn import utils\n",
    "#le = LabelEncoder()\n",
    "#dataset[\"Sport\"] = le.fit_transform(dataset[\"Sport\"])\n"
   ]
  },
  {
   "cell_type": "code",
   "execution_count": 29,
   "id": "ed137373-a65c-4525-928d-6b52eae4d534",
   "metadata": {},
   "outputs": [
    {
     "ename": "IndexError",
     "evalue": "single positional indexer is out-of-bounds",
     "output_type": "error",
     "traceback": [
      "\u001b[1;31m---------------------------------------------------------------------------\u001b[0m",
      "\u001b[1;31mIndexError\u001b[0m                                Traceback (most recent call last)",
      "\u001b[1;32m~\\AppData\\Local\\Temp/ipykernel_11440/622138566.py\u001b[0m in \u001b[0;36m<module>\u001b[1;34m\u001b[0m\n\u001b[0;32m     23\u001b[0m \u001b[0mz\u001b[0m \u001b[1;33m=\u001b[0m \u001b[0mdataset\u001b[0m\u001b[1;33m.\u001b[0m\u001b[0miloc\u001b[0m\u001b[1;33m[\u001b[0m\u001b[1;33m:\u001b[0m\u001b[1;33m,\u001b[0m \u001b[1;36m18\u001b[0m\u001b[1;33m]\u001b[0m\u001b[1;33m.\u001b[0m\u001b[0mvalues\u001b[0m\u001b[1;33m\u001b[0m\u001b[1;33m\u001b[0m\u001b[0m\n\u001b[0;32m     24\u001b[0m \u001b[0mX\u001b[0m \u001b[1;33m=\u001b[0m \u001b[0mdataset\u001b[0m\u001b[1;33m.\u001b[0m\u001b[0miloc\u001b[0m\u001b[1;33m[\u001b[0m\u001b[1;33m:\u001b[0m\u001b[1;33m,\u001b[0m \u001b[1;33m[\u001b[0m\u001b[1;36m1\u001b[0m\u001b[1;33m,\u001b[0m\u001b[1;36m18\u001b[0m\u001b[1;33m,\u001b[0m\u001b[1;36m4\u001b[0m\u001b[1;33m,\u001b[0m\u001b[1;36m5\u001b[0m\u001b[1;33m,\u001b[0m\u001b[1;36m6\u001b[0m\u001b[1;33m]\u001b[0m\u001b[1;33m]\u001b[0m\u001b[1;33m.\u001b[0m\u001b[0mvalues\u001b[0m\u001b[1;33m\u001b[0m\u001b[1;33m\u001b[0m\u001b[0m\n\u001b[1;32m---> 25\u001b[1;33m \u001b[0my\u001b[0m \u001b[1;33m=\u001b[0m \u001b[0mdataset\u001b[0m\u001b[1;33m.\u001b[0m\u001b[0miloc\u001b[0m\u001b[1;33m[\u001b[0m\u001b[1;33m:\u001b[0m\u001b[1;33m,\u001b[0m \u001b[1;36m22\u001b[0m\u001b[1;33m]\u001b[0m\u001b[1;33m.\u001b[0m\u001b[0mvalues\u001b[0m\u001b[1;33m\u001b[0m\u001b[1;33m\u001b[0m\u001b[0m\n\u001b[0m",
      "\u001b[1;32mC:\\ProgramData\\Anaconda3\\lib\\site-packages\\pandas\\core\\indexing.py\u001b[0m in \u001b[0;36m__getitem__\u001b[1;34m(self, key)\u001b[0m\n\u001b[0;32m    923\u001b[0m                 \u001b[1;32mwith\u001b[0m \u001b[0msuppress\u001b[0m\u001b[1;33m(\u001b[0m\u001b[0mKeyError\u001b[0m\u001b[1;33m,\u001b[0m \u001b[0mIndexError\u001b[0m\u001b[1;33m)\u001b[0m\u001b[1;33m:\u001b[0m\u001b[1;33m\u001b[0m\u001b[1;33m\u001b[0m\u001b[0m\n\u001b[0;32m    924\u001b[0m                     \u001b[1;32mreturn\u001b[0m \u001b[0mself\u001b[0m\u001b[1;33m.\u001b[0m\u001b[0mobj\u001b[0m\u001b[1;33m.\u001b[0m\u001b[0m_get_value\u001b[0m\u001b[1;33m(\u001b[0m\u001b[1;33m*\u001b[0m\u001b[0mkey\u001b[0m\u001b[1;33m,\u001b[0m \u001b[0mtakeable\u001b[0m\u001b[1;33m=\u001b[0m\u001b[0mself\u001b[0m\u001b[1;33m.\u001b[0m\u001b[0m_takeable\u001b[0m\u001b[1;33m)\u001b[0m\u001b[1;33m\u001b[0m\u001b[1;33m\u001b[0m\u001b[0m\n\u001b[1;32m--> 925\u001b[1;33m             \u001b[1;32mreturn\u001b[0m \u001b[0mself\u001b[0m\u001b[1;33m.\u001b[0m\u001b[0m_getitem_tuple\u001b[0m\u001b[1;33m(\u001b[0m\u001b[0mkey\u001b[0m\u001b[1;33m)\u001b[0m\u001b[1;33m\u001b[0m\u001b[1;33m\u001b[0m\u001b[0m\n\u001b[0m\u001b[0;32m    926\u001b[0m         \u001b[1;32melse\u001b[0m\u001b[1;33m:\u001b[0m\u001b[1;33m\u001b[0m\u001b[1;33m\u001b[0m\u001b[0m\n\u001b[0;32m    927\u001b[0m             \u001b[1;31m# we by definition only have the 0th axis\u001b[0m\u001b[1;33m\u001b[0m\u001b[1;33m\u001b[0m\u001b[0m\n",
      "\u001b[1;32mC:\\ProgramData\\Anaconda3\\lib\\site-packages\\pandas\\core\\indexing.py\u001b[0m in \u001b[0;36m_getitem_tuple\u001b[1;34m(self, tup)\u001b[0m\n\u001b[0;32m   1504\u001b[0m     \u001b[1;32mdef\u001b[0m \u001b[0m_getitem_tuple\u001b[0m\u001b[1;33m(\u001b[0m\u001b[0mself\u001b[0m\u001b[1;33m,\u001b[0m \u001b[0mtup\u001b[0m\u001b[1;33m:\u001b[0m \u001b[0mtuple\u001b[0m\u001b[1;33m)\u001b[0m\u001b[1;33m:\u001b[0m\u001b[1;33m\u001b[0m\u001b[1;33m\u001b[0m\u001b[0m\n\u001b[0;32m   1505\u001b[0m \u001b[1;33m\u001b[0m\u001b[0m\n\u001b[1;32m-> 1506\u001b[1;33m         \u001b[0mself\u001b[0m\u001b[1;33m.\u001b[0m\u001b[0m_has_valid_tuple\u001b[0m\u001b[1;33m(\u001b[0m\u001b[0mtup\u001b[0m\u001b[1;33m)\u001b[0m\u001b[1;33m\u001b[0m\u001b[1;33m\u001b[0m\u001b[0m\n\u001b[0m\u001b[0;32m   1507\u001b[0m         \u001b[1;32mwith\u001b[0m \u001b[0msuppress\u001b[0m\u001b[1;33m(\u001b[0m\u001b[0mIndexingError\u001b[0m\u001b[1;33m)\u001b[0m\u001b[1;33m:\u001b[0m\u001b[1;33m\u001b[0m\u001b[1;33m\u001b[0m\u001b[0m\n\u001b[0;32m   1508\u001b[0m             \u001b[1;32mreturn\u001b[0m \u001b[0mself\u001b[0m\u001b[1;33m.\u001b[0m\u001b[0m_getitem_lowerdim\u001b[0m\u001b[1;33m(\u001b[0m\u001b[0mtup\u001b[0m\u001b[1;33m)\u001b[0m\u001b[1;33m\u001b[0m\u001b[1;33m\u001b[0m\u001b[0m\n",
      "\u001b[1;32mC:\\ProgramData\\Anaconda3\\lib\\site-packages\\pandas\\core\\indexing.py\u001b[0m in \u001b[0;36m_has_valid_tuple\u001b[1;34m(self, key)\u001b[0m\n\u001b[0;32m    752\u001b[0m         \u001b[1;32mfor\u001b[0m \u001b[0mi\u001b[0m\u001b[1;33m,\u001b[0m \u001b[0mk\u001b[0m \u001b[1;32min\u001b[0m \u001b[0menumerate\u001b[0m\u001b[1;33m(\u001b[0m\u001b[0mkey\u001b[0m\u001b[1;33m)\u001b[0m\u001b[1;33m:\u001b[0m\u001b[1;33m\u001b[0m\u001b[1;33m\u001b[0m\u001b[0m\n\u001b[0;32m    753\u001b[0m             \u001b[1;32mtry\u001b[0m\u001b[1;33m:\u001b[0m\u001b[1;33m\u001b[0m\u001b[1;33m\u001b[0m\u001b[0m\n\u001b[1;32m--> 754\u001b[1;33m                 \u001b[0mself\u001b[0m\u001b[1;33m.\u001b[0m\u001b[0m_validate_key\u001b[0m\u001b[1;33m(\u001b[0m\u001b[0mk\u001b[0m\u001b[1;33m,\u001b[0m \u001b[0mi\u001b[0m\u001b[1;33m)\u001b[0m\u001b[1;33m\u001b[0m\u001b[1;33m\u001b[0m\u001b[0m\n\u001b[0m\u001b[0;32m    755\u001b[0m             \u001b[1;32mexcept\u001b[0m \u001b[0mValueError\u001b[0m \u001b[1;32mas\u001b[0m \u001b[0merr\u001b[0m\u001b[1;33m:\u001b[0m\u001b[1;33m\u001b[0m\u001b[1;33m\u001b[0m\u001b[0m\n\u001b[0;32m    756\u001b[0m                 raise ValueError(\n",
      "\u001b[1;32mC:\\ProgramData\\Anaconda3\\lib\\site-packages\\pandas\\core\\indexing.py\u001b[0m in \u001b[0;36m_validate_key\u001b[1;34m(self, key, axis)\u001b[0m\n\u001b[0;32m   1407\u001b[0m             \u001b[1;32mreturn\u001b[0m\u001b[1;33m\u001b[0m\u001b[1;33m\u001b[0m\u001b[0m\n\u001b[0;32m   1408\u001b[0m         \u001b[1;32melif\u001b[0m \u001b[0mis_integer\u001b[0m\u001b[1;33m(\u001b[0m\u001b[0mkey\u001b[0m\u001b[1;33m)\u001b[0m\u001b[1;33m:\u001b[0m\u001b[1;33m\u001b[0m\u001b[1;33m\u001b[0m\u001b[0m\n\u001b[1;32m-> 1409\u001b[1;33m             \u001b[0mself\u001b[0m\u001b[1;33m.\u001b[0m\u001b[0m_validate_integer\u001b[0m\u001b[1;33m(\u001b[0m\u001b[0mkey\u001b[0m\u001b[1;33m,\u001b[0m \u001b[0maxis\u001b[0m\u001b[1;33m)\u001b[0m\u001b[1;33m\u001b[0m\u001b[1;33m\u001b[0m\u001b[0m\n\u001b[0m\u001b[0;32m   1410\u001b[0m         \u001b[1;32melif\u001b[0m \u001b[0misinstance\u001b[0m\u001b[1;33m(\u001b[0m\u001b[0mkey\u001b[0m\u001b[1;33m,\u001b[0m \u001b[0mtuple\u001b[0m\u001b[1;33m)\u001b[0m\u001b[1;33m:\u001b[0m\u001b[1;33m\u001b[0m\u001b[1;33m\u001b[0m\u001b[0m\n\u001b[0;32m   1411\u001b[0m             \u001b[1;31m# a tuple should already have been caught by this point\u001b[0m\u001b[1;33m\u001b[0m\u001b[1;33m\u001b[0m\u001b[0m\n",
      "\u001b[1;32mC:\\ProgramData\\Anaconda3\\lib\\site-packages\\pandas\\core\\indexing.py\u001b[0m in \u001b[0;36m_validate_integer\u001b[1;34m(self, key, axis)\u001b[0m\n\u001b[0;32m   1498\u001b[0m         \u001b[0mlen_axis\u001b[0m \u001b[1;33m=\u001b[0m \u001b[0mlen\u001b[0m\u001b[1;33m(\u001b[0m\u001b[0mself\u001b[0m\u001b[1;33m.\u001b[0m\u001b[0mobj\u001b[0m\u001b[1;33m.\u001b[0m\u001b[0m_get_axis\u001b[0m\u001b[1;33m(\u001b[0m\u001b[0maxis\u001b[0m\u001b[1;33m)\u001b[0m\u001b[1;33m)\u001b[0m\u001b[1;33m\u001b[0m\u001b[1;33m\u001b[0m\u001b[0m\n\u001b[0;32m   1499\u001b[0m         \u001b[1;32mif\u001b[0m \u001b[0mkey\u001b[0m \u001b[1;33m>=\u001b[0m \u001b[0mlen_axis\u001b[0m \u001b[1;32mor\u001b[0m \u001b[0mkey\u001b[0m \u001b[1;33m<\u001b[0m \u001b[1;33m-\u001b[0m\u001b[0mlen_axis\u001b[0m\u001b[1;33m:\u001b[0m\u001b[1;33m\u001b[0m\u001b[1;33m\u001b[0m\u001b[0m\n\u001b[1;32m-> 1500\u001b[1;33m             \u001b[1;32mraise\u001b[0m \u001b[0mIndexError\u001b[0m\u001b[1;33m(\u001b[0m\u001b[1;34m\"single positional indexer is out-of-bounds\"\u001b[0m\u001b[1;33m)\u001b[0m\u001b[1;33m\u001b[0m\u001b[1;33m\u001b[0m\u001b[0m\n\u001b[0m\u001b[0;32m   1501\u001b[0m \u001b[1;33m\u001b[0m\u001b[0m\n\u001b[0;32m   1502\u001b[0m     \u001b[1;31m# -------------------------------------------------------------------\u001b[0m\u001b[1;33m\u001b[0m\u001b[1;33m\u001b[0m\u001b[0m\n",
      "\u001b[1;31mIndexError\u001b[0m: single positional indexer is out-of-bounds"
     ]
    }
   ],
   "source": [
    "#Age, Height, Arm Length, Leg Length\n",
    "#All Anthropometric 42%\n",
    "#Removed 0 Age 52%\n",
    "#Removed 2 Sitting Height 36%\n",
    "#Removed 3 Arm Span 39%\n",
    "#Removed 4 Arm Length 44%\n",
    "#Removed 5 Leg Length 39%\n",
    "#Removed 6 Chest Girth 34%\n",
    "#Removed 7 Shoulder Width 39%\n",
    "#Removed 8 Crista Width 44%\n",
    "#Removed 9 Calf Girth 44% XXX\n",
    "#Removed 10 Thigh Circu 39%\n",
    "#Removed 11 Waist Girth 42%\n",
    "#Removed 12 LowerLeg Length 39%\n",
    "#Removed 13 Ankle Circum 36%\n",
    "#Removed 14 Subscapular Angle 44% XX\n",
    "#Removed 15 Abdomen MM 47% XX\n",
    "#Removed 16 Upper Arm mm 50% XX\n",
    "#Removed 17 Tendon Length 44% \n",
    "#Removed 18 Body Weight 39%\n",
    "#Heart Rate 22 Is good indicator\n",
    "\n",
    "#z = dataset.iloc[:, 18].values\n",
    "#X = dataset.iloc[:, [1,18,4,5,6]].values\n",
    "#y = dataset.iloc[:, 22].values"
   ]
  },
  {
   "cell_type": "markdown",
   "id": "ffff7caf-59c3-4180-b387-7e83a6755c8d",
   "metadata": {
    "tags": []
   },
   "source": [
    "## Data scaling"
   ]
  },
  {
   "cell_type": "code",
   "execution_count": 36,
   "id": "bd1fa267-2511-43a5-a186-43cf2c9d331f",
   "metadata": {
    "tags": []
   },
   "outputs": [
    {
     "name": "stdout",
     "output_type": "stream",
     "text": [
      "        Test_age_T1  Body_height_cm_T1  Sitting_height_cm_T1  Arm_span_cm_T1  \\\n",
      "count  9.300000e+01       9.300000e+01          9.300000e+01    9.300000e+01   \n",
      "mean  -2.626334e-17      -1.313167e-16         -2.865092e-17   -5.730183e-17   \n",
      "std    1.005420e+00       1.005420e+00          1.005420e+00    1.005420e+00   \n",
      "min   -1.486089e+00      -2.114883e+00         -2.394052e+00   -2.102525e+00   \n",
      "25%   -8.992259e-01      -7.394696e-01         -6.428472e-01   -7.972049e-01   \n",
      "50%   -1.893107e-02       7.477516e-02          6.650143e-02    1.335655e-02   \n",
      "75%    8.613638e-01       8.340033e-01          5.985129e-01    6.449629e-01   \n",
      "max    1.741659e+00       1.923331e+00          2.017210e+00    2.129238e+00   \n",
      "\n",
      "       Arm_length_cm_T1  Leg_length_cm_T1  Chest_girth_cm_T1  \\\n",
      "count      9.300000e+01      9.300000e+01       9.300000e+01   \n",
      "mean      -7.640244e-17      3.820122e-17      -7.162729e-17   \n",
      "std        1.005420e+00      1.005420e+00       1.005420e+00   \n",
      "min       -2.190791e+00     -1.927833e+00      -2.374616e+00   \n",
      "25%       -7.806328e-01     -8.400474e-01      -7.012742e-01   \n",
      "50%        2.169877e-02      3.374762e-02      -1.156045e-01   \n",
      "75%        7.267780e-01      7.648822e-01       6.652884e-01   \n",
      "max        2.063997e+00      2.993951e+00       2.533854e+00   \n",
      "\n",
      "       Shoulder_width_cm_T1  Crista_width_cm_T1  Calf_girth_cm_T1  \\\n",
      "count          9.300000e+01        9.300000e+01      9.300000e+01   \n",
      "mean           1.551925e-17       -4.058880e-17      4.058880e-17   \n",
      "std            1.005420e+00        1.005420e+00      1.005420e+00   \n",
      "min           -2.643844e+00       -1.513659e+00     -3.164960e+00   \n",
      "25%           -6.839819e-01       -6.598590e-01     -5.753446e-01   \n",
      "50%            8.292077e-02       -1.262339e-01     -1.204122e-01   \n",
      "75%            7.220063e-01        5.141162e-01      6.844682e-01   \n",
      "max            2.170600e+00        3.075517e+00      2.574187e+00   \n",
      "\n",
      "       Thigh_circumference_cm_T1  Waist_girth_cm_T1  LowerLeg_length_cm_T1  \\\n",
      "count               9.300000e+01       9.300000e+01           9.300000e+01   \n",
      "mean                6.207699e-17       1.178866e-16           1.217664e-16   \n",
      "std                 1.005420e+00       1.005420e+00           1.005420e+00   \n",
      "min                -2.186473e+00      -1.545307e+00          -1.938699e+00   \n",
      "25%                -6.589110e-01      -6.535554e-01          -8.097551e-01   \n",
      "50%                -1.497238e-01      -2.147570e-01           2.035099e-02   \n",
      "75%                 5.553047e-01       3.372796e-01           7.840486e-01   \n",
      "max                 2.161203e+00       3.975059e+00           2.311444e+00   \n",
      "\n",
      "       Ankle_circumference_cm_T1  Subscapular_angle_mm_T1  Abdomen_mm_T1  \\\n",
      "count               9.300000e+01             9.300000e+01   9.300000e+01   \n",
      "mean                1.253478e-17             2.865092e-17  -1.074409e-17   \n",
      "std                 1.005420e+00             1.005420e+00   1.005420e+00   \n",
      "min                -2.633586e+00            -1.184588e+00  -9.830994e-01   \n",
      "25%                -6.114506e-01            -5.468650e-01  -6.087004e-01   \n",
      "50%                -2.437896e-01            -3.874341e-01  -3.840610e-01   \n",
      "75%                 5.528094e-01             2.502893e-01  -9.661911e-03   \n",
      "max                 3.432821e+00             4.076630e+00   3.584569e+00   \n",
      "\n",
      "       Upper_arm_mm_T1  Tendon_length_cm_T1  Body_weight_kg_T1  \n",
      "count     9.300000e+01         9.300000e+01       9.300000e+01  \n",
      "mean     -1.671303e-17         5.013910e-17      -5.013910e-17  \n",
      "std       1.005420e+00         1.005420e+00       1.005420e+00  \n",
      "min      -1.259330e+00        -3.216809e+00      -1.644292e+00  \n",
      "25%      -7.609567e-01        -6.695346e-01      -7.049245e-01  \n",
      "50%      -2.625836e-01         1.391241e-01      -2.022804e-01  \n",
      "75%       4.849759e-01         7.456181e-01       5.228456e-01  \n",
      "max       2.727655e+00         1.877740e+00       2.698224e+00  \n"
     ]
    }
   ],
   "source": [
    "#\n",
    "\n",
    "from sklearn.preprocessing import StandardScaler\n",
    "\n",
    "dataset[dataset.columns] = StandardScaler().fit_transform(dataset)\n",
    "print(dataset.describe())"
   ]
  },
  {
   "cell_type": "code",
   "execution_count": null,
   "id": "83976b75-ce5e-4010-80ea-c9b6c69fb7b2",
   "metadata": {},
   "outputs": [],
   "source": []
  },
  {
   "cell_type": "code",
   "execution_count": 41,
   "id": "53571748-844a-4518-89d1-c81a05e00cd5",
   "metadata": {},
   "outputs": [
    {
     "name": "stdout",
     "output_type": "stream",
     "text": [
      "Explained variation per principal component: [0.54339679 0.17581313]\n",
      "Cumulative variance explained by 2 principal components: 71.92%\n"
     ]
    }
   ],
   "source": [
    "\n",
    "pca_2 = PCA(n_components=2)\n",
    "pca_2_result = pca_2.fit_transform(dataset)\n",
    "print('Explained variation per principal component: {}'.format(pca_2.explained_variance_ratio_))\n",
    "\n",
    "# >> Explained variation per principal component: [0.36198848 0.1920749 ]\n",
    "\n",
    "print('Cumulative variance explained by 2 principal components: {:.2%}'.format(np.sum(pca_2.explained_variance_ratio_)))\n",
    "\n",
    "# >> Cumulative variance explained by 2 principal components: 55.41%"
   ]
  },
  {
   "cell_type": "code",
   "execution_count": 43,
   "id": "eac780a5-6ee0-4f15-8d02-5b0011d8dcf8",
   "metadata": {},
   "outputs": [
    {
     "name": "stdout",
     "output_type": "stream",
     "text": [
      "\n",
      "\n",
      "       Test_age_T1  Body_height_cm_T1  Sitting_height_cm_T1  Arm_span_cm_T1  \\\n",
      "PC_1     0.015257           0.260377              0.237374        0.259085   \n",
      "PC_2     0.020174           0.273414              0.228650        0.266469   \n",
      "\n",
      "      Arm_length_cm_T1  Leg_length_cm_T1  Chest_girth_cm_T1  \\\n",
      "PC_1          0.247875          0.245596            0.22853   \n",
      "PC_2          0.277518          0.250487            0.20623   \n",
      "\n",
      "      Shoulder_width_cm_T1  Crista_width_cm_T1  Calf_girth_cm_T1  \\\n",
      "PC_1              0.240552            0.245953          0.225197   \n",
      "PC_2              0.075525            0.067594          0.172823   \n",
      "\n",
      "      Thigh_circumference_cm_T1  Waist_girth_cm_T1  LowerLeg_length_cm_T1  \\\n",
      "PC_1                   0.262606           0.260175               0.242978   \n",
      "PC_2                   0.226462           0.239336               0.256894   \n",
      "\n",
      "      Ankle_circumference_cm_T1  Subscapular_angle_mm_T1  Abdomen_mm_T1  \\\n",
      "PC_1                   0.210217                 0.204356       0.208776   \n",
      "PC_2                   0.157549                 0.278659       0.315342   \n",
      "\n",
      "      Upper_arm_mm_T1  Tendon_length_cm_T1  Body_weight_kg_T1  \n",
      "PC_1         0.196540             0.111110           0.298728  \n",
      "PC_2         0.306734             0.311212           0.108197  \n"
     ]
    }
   ],
   "source": [
    "\n",
    "    # Results from pca.components_\n",
    "    dataset_pca = pd.DataFrame(abs(pca_2.components_), columns=dataset.columns, index=['PC_1', 'PC_2'])\n",
    "    print('\\n\\n', dataset_pca)"
   ]
  },
  {
   "cell_type": "code",
   "execution_count": 45,
   "id": "bef497c3-a485-48db-9c01-cd8c47852ddc",
   "metadata": {},
   "outputs": [
    {
     "name": "stdout",
     "output_type": "stream",
     "text": [
      "\n",
      "*************** Most important features *************************\n",
      "As per PC 1:\n",
      " Abdomen_mm_T1          0.315342\n",
      "Upper_arm_mm_T1        0.306734\n",
      "Tendon_length_cm_T1    0.311212\n",
      "Name: PC_2, dtype: float64\n",
      "\n",
      "\n",
      "As per PC 2:\n",
      " Abdomen_mm_T1          0.315342\n",
      "Upper_arm_mm_T1        0.306734\n",
      "Tendon_length_cm_T1    0.311212\n",
      "Name: PC_2, dtype: float64\n",
      "\n",
      "******************************************************************\n"
     ]
    }
   ],
   "source": [
    "print(\"\\n*************** Most important features *************************\")\n",
    "print('As per PC 1:\\n', (dataset_pca[dataset_pca > 0.3].iloc[1]).dropna())   \n",
    "print('\\n\\nAs per PC 2:\\n', (dataset_pca[dataset_pca > 0.3].iloc[1]).dropna())\n",
    "print(\"\\n******************************************************************\")"
   ]
  },
  {
   "cell_type": "code",
   "execution_count": 53,
   "id": "c88a092d-81cb-4c1b-a0ba-0ed71a4db9c8",
   "metadata": {},
   "outputs": [
    {
     "name": "stdout",
     "output_type": "stream",
     "text": [
      "Parameter: {'n_clusters': 2} Score 0.3675837845018076\n",
      "Parameter: {'n_clusters': 3} Score 0.2784120604053173\n",
      "Parameter: {'n_clusters': 4} Score 0.21900280147108375\n",
      "Parameter: {'n_clusters': 5} Score 0.22127404171497775\n",
      "Parameter: {'n_clusters': 10} Score 0.18524833437204946\n",
      "Parameter: {'n_clusters': 15} Score 0.18449302515852345\n",
      "Parameter: {'n_clusters': 20} Score 0.190200841041076\n",
      "Parameter: {'n_clusters': 25} Score 0.1796140004037429\n",
      "Parameter: {'n_clusters': 30} Score 0.16838170493546892\n",
      "Parameter: {'n_clusters': 35} Score 0.1989596175634217\n",
      "Parameter: {'n_clusters': 40} Score 0.18140087382058415\n"
     ]
    },
    {
     "data": {
      "image/png": "[encoded data removed]",
      "text/plain": [
       "<Figure size 432x288 with 1 Axes>"
      ]
     },
     "metadata": {
      "needs_background": "light"
     },
     "output_type": "display_data"
    }
   ],
   "source": [
    "# candidate values for our number of cluster\n",
    "parameters = [2, 3, 4, 5, 10, 15, 20, 25, 30, 35, 40]\n",
    "# instantiating ParameterGrid, pass number of clusters as input\n",
    "parameter_grid = ParameterGrid({'n_clusters': parameters})\n",
    "best_score = -1\n",
    "kmeans_model = KMeans()     # instantiating KMeans model\n",
    "silhouette_scores = []\n",
    "# evaluation based on silhouette_score\n",
    "for p in parameter_grid:\n",
    "    kmeans_model.set_params(**p)    # set current hyper parameter\n",
    "    kmeans_model.fit(dataset)          # fit model on wine dataset, this will find clusters based on parameter p\n",
    "    ss = metrics.silhouette_score(dataset, kmeans_model.labels_)   # calculate silhouette_score\n",
    "    silhouette_scores += [ss]       # store all the scores\n",
    "    print('Parameter:', p, 'Score', ss)\n",
    "    # check p which has the best score\n",
    "    if ss > best_score:\n",
    "        best_score = ss\n",
    "        best_grid = p\n",
    "# plotting silhouette score\n",
    "plt.bar(range(len(silhouette_scores)), list(silhouette_scores), align='center', color='#722f59', width=0.5)\n",
    "plt.xticks(range(len(silhouette_scores)), list(parameters))\n",
    "plt.title('Silhouette Score', fontweight='bold')\n",
    "plt.xlabel('Number of Clusters')\n",
    "plt.show()"
   ]
  },
  {
   "cell_type": "markdown",
   "id": "bda92b74-8998-4cdd-acef-0409d607fda2",
   "metadata": {},
   "source": [
    "# K-Means cluster"
   ]
  },
  {
   "cell_type": "code",
   "execution_count": 55,
   "id": "d3bc3fea-fd5e-4fbe-ae22-cf8caaa69c18",
   "metadata": {},
   "outputs": [
    {
     "data": {
      "text/plain": [
       "KMeans(n_clusters=3)"
      ]
     },
     "execution_count": 55,
     "metadata": {},
     "output_type": "execute_result"
    }
   ],
   "source": [
    "# fitting KMeans    \n",
    "kmeans = KMeans(n_clusters=3)\n",
    "kmeans.fit(dataset)"
   ]
  },
  {
   "cell_type": "code",
   "execution_count": null,
   "id": "d3a39c13-3ae7-48c8-8e34-4338f2d48316",
   "metadata": {},
   "outputs": [],
   "source": []
  },
  {
   "cell_type": "code",
   "execution_count": null,
   "id": "0d1e493d-1fc8-4020-8dfe-644b904892a7",
   "metadata": {},
   "outputs": [],
   "source": []
  },
  {
   "cell_type": "code",
   "execution_count": null,
   "id": "d17a68d1-4509-40b9-ada9-7b140b73951b",
   "metadata": {},
   "outputs": [],
   "source": []
  },
  {
   "cell_type": "code",
   "execution_count": null,
   "id": "84c17649-68b6-4b63-9d4b-c1b748998e7f",
   "metadata": {},
   "outputs": [],
   "source": []
  },
  {
   "cell_type": "code",
   "execution_count": null,
   "id": "e18d8239-afaf-4e50-8f7a-bd8a6bbe62b1",
   "metadata": {},
   "outputs": [],
   "source": []
  },
  {
   "cell_type": "code",
   "execution_count": null,
   "id": "d16080f8-34c4-4ce5-872e-b4c9ae02e1e9",
   "metadata": {},
   "outputs": [],
   "source": []
  },
  {
   "cell_type": "code",
   "execution_count": null,
   "id": "adbec03e-acd4-4127-a1de-bf2b6038716c",
   "metadata": {},
   "outputs": [],
   "source": []
  },
  {
   "cell_type": "code",
   "execution_count": null,
   "id": "92253208-037d-443d-8dd3-e4df0f80660d",
   "metadata": {},
   "outputs": [],
   "source": []
  },
  {
   "cell_type": "code",
   "execution_count": null,
   "id": "418dd60a-cb1c-481e-a75d-8f02036888a1",
   "metadata": {},
   "outputs": [],
   "source": []
  },
  {
   "cell_type": "code",
   "execution_count": null,
   "id": "f9b1f708-90b9-468b-acaf-07c7d219d4ec",
   "metadata": {},
   "outputs": [],
   "source": []
  },
  {
   "cell_type": "code",
   "execution_count": null,
   "id": "85eb5c4d-ef58-432b-a610-35e1ed7100e4",
   "metadata": {},
   "outputs": [],
   "source": []
  },
  {
   "cell_type": "code",
   "execution_count": null,
   "id": "9e6e8ed0-3bfc-45a8-bf9e-452a7dedf101",
   "metadata": {},
   "outputs": [],
   "source": []
  },
  {
   "cell_type": "code",
   "execution_count": null,
   "id": "91223d9d-231e-485f-b5cf-8ca6745cba47",
   "metadata": {},
   "outputs": [],
   "source": []
  },
  {
   "cell_type": "code",
   "execution_count": null,
   "id": "e898140a-eb5c-47ae-bf0d-5101f9001e85",
   "metadata": {},
   "outputs": [],
   "source": []
  },
  {
   "cell_type": "code",
   "execution_count": null,
   "id": "feedd35a-2bb3-4d1c-8591-e59df469998d",
   "metadata": {},
   "outputs": [],
   "source": []
  },
  {
   "cell_type": "markdown",
   "id": "3d91546c-3aae-487e-b2f9-20cb872aafef",
   "metadata": {
    "tags": []
   },
   "source": [
    "## Divide the data into train and test datasets into 70% training and 30% testing"
   ]
  },
  {
   "cell_type": "code",
   "execution_count": 76,
   "id": "393a74d5-141a-4bc6-991a-b95f0c1ae7e7",
   "metadata": {},
   "outputs": [],
   "source": [
    "from sklearn.model_selection import train_test_split\n",
    "X_train, X_test, y_train, y_test = train_test_split(X, y, test_size = 0.30, random_state = 17)"
   ]
  },
  {
   "cell_type": "code",
   "execution_count": 77,
   "id": "937ccd8b-0c6a-4a10-87b9-34328dcef8ca",
   "metadata": {},
   "outputs": [],
   "source": [
    "from sklearn.preprocessing import StandardScaler\n",
    "scaler = StandardScaler()\n",
    "scaler.fit(X_train)\n",
    "X_train = scaler.transform(X_train)\n",
    "X_test = scaler.transform(X_test)"
   ]
  },
  {
   "cell_type": "code",
   "execution_count": null,
   "id": "07836363-0e05-42aa-b1e7-48a058e57f9d",
   "metadata": {},
   "outputs": [],
   "source": []
  },
  {
   "cell_type": "code",
   "execution_count": null,
   "id": "ea01bae4-0ef4-4a48-95d5-1b64e10bee1f",
   "metadata": {},
   "outputs": [],
   "source": []
  },
  {
   "cell_type": "markdown",
   "id": "9a4303ad-0cd1-4832-a8de-a23d941d78df",
   "metadata": {},
   "source": [
    "### Decision Tree Classifier"
   ]
  },
  {
   "cell_type": "code",
   "execution_count": 78,
   "id": "a4b39a3d-f771-4a2d-9888-3dbcd369f49f",
   "metadata": {},
   "outputs": [
    {
     "name": "stdout",
     "output_type": "stream",
     "text": [
      "0.5\n"
     ]
    }
   ],
   "source": [
    "from sklearn.tree import DecisionTreeClassifier\n",
    "from sklearn.metrics import confusion_matrix\n",
    "dtree_model = DecisionTreeClassifier(max_depth = 2).fit(X_train, y_train)\n",
    "dtree_predictions = dtree_model.predict(X_test)\n",
    "accuracy = dtree_model.score(X_test, y_test)\n",
    "print(accuracy)\n",
    "# creating a confusion matrix\n",
    "cm = confusion_matrix(y_test, dtree_predictions)"
   ]
  },
  {
   "cell_type": "markdown",
   "id": "9c546cee-08af-47f5-8ffc-16f3b43d3739",
   "metadata": {},
   "source": [
    "### SVM Classifier"
   ]
  },
  {
   "cell_type": "code",
   "execution_count": 79,
   "id": "9730ba1b-75a2-4758-ab4f-de1f198628e4",
   "metadata": {},
   "outputs": [
    {
     "name": "stdout",
     "output_type": "stream",
     "text": [
      "0.75\n"
     ]
    }
   ],
   "source": [
    "from sklearn import datasets\n",
    "from sklearn.metrics import confusion_matrix\n",
    "from sklearn.model_selection import train_test_split\n",
    "\n",
    "# training a linear SVM classifier\n",
    "from sklearn.svm import SVC\n",
    "svm_model_linear = SVC(kernel = 'linear', C = 1).fit(X_train, y_train)\n",
    "svm_predictions = svm_model_linear.predict(X_test)\n",
    "  \n",
    "# model accuracy for X_test  \n",
    "accuracy = svm_model_linear.score(X_test, y_test)\n",
    "print(accuracy)\n",
    "# creating a confusion matrix\n",
    "cm = confusion_matrix(y_test, svm_predictions)"
   ]
  },
  {
   "cell_type": "markdown",
   "id": "6213e6a3-7f91-4151-b78e-d17c9708cb9f",
   "metadata": {},
   "source": [
    "### KNN Classifier"
   ]
  },
  {
   "cell_type": "code",
   "execution_count": 104,
   "id": "aa7f5670-d666-429d-a621-ec357783946e",
   "metadata": {},
   "outputs": [
    {
     "name": "stdout",
     "output_type": "stream",
     "text": [
      "0.6428571428571429\n"
     ]
    }
   ],
   "source": [
    "# training a KNN classifier\n",
    "from sklearn.neighbors import KNeighborsClassifier\n",
    "knn = KNeighborsClassifier(n_neighbors = 7).fit(X_train, y_train)\n",
    "  \n",
    "# accuracy on X_test\n",
    "accuracy = knn.score(X_test, y_test)\n",
    "print (accuracy)\n",
    "  \n",
    "# creating a confusion matrix\n",
    "knn_predictions = knn.predict(X_test) \n",
    "cm = confusion_matrix(y_test, knn_predictions)\n"
   ]
  },
  {
   "cell_type": "markdown",
   "id": "2afcd316-3e89-43a9-90e5-eeb0baa84113",
   "metadata": {},
   "source": [
    "### Logistic Regression"
   ]
  },
  {
   "cell_type": "code",
   "execution_count": 105,
   "id": "57364ce3-ff44-4cec-8d80-48bd2abd3475",
   "metadata": {},
   "outputs": [
    {
     "name": "stdout",
     "output_type": "stream",
     "text": [
      "Logistic Regression Accuracy: 0.75 %\n"
     ]
    }
   ],
   "source": [
    "from sklearn.linear_model import LogisticRegression\n",
    "from sklearn.metrics import accuracy_score, confusion_matrix, classification_report\n",
    "#  Train the model\n",
    "LR_clf = LogisticRegression().fit(X_train, y_train)\n",
    "#  Let's test it Talentmine model!!\n",
    "LR_prediction = LR_clf.predict(X_test)\n",
    "# Now compare between predicted sports and actual athletes\n",
    "LR_accuracy = accuracy_score(y_test, LR_prediction)\n",
    "# Accuracy | الضبط \n",
    "print(f'Logistic Regression Accuracy: {LR_accuracy:.2f} %')"
   ]
  },
  {
   "cell_type": "code",
   "execution_count": 106,
   "id": "2791066e-f260-46b7-84d0-a336f48b2c5d",
   "metadata": {},
   "outputs": [
    {
     "name": "stdout",
     "output_type": "stream",
     "text": [
      "0.6071428571428571\n"
     ]
    }
   ],
   "source": [
    "\n",
    "# training a Naive Bayes classifier\n",
    "from sklearn.naive_bayes import GaussianNB\n",
    "gnb = GaussianNB().fit(X_train, y_train)\n",
    "gnb_predictions = gnb.predict(X_test)\n",
    "  \n",
    "# accuracy on X_test\n",
    "accuracy = gnb.score(X_test, y_test)\n",
    "print (accuracy)\n",
    "  \n",
    "# creating a confusion matrix\n",
    "cm = confusion_matrix(y_test, gnb_predictions)"
   ]
  },
  {
   "cell_type": "code",
   "execution_count": null,
   "id": "e693a734-348c-4332-840a-1e179f9af940",
   "metadata": {},
   "outputs": [],
   "source": []
  },
  {
   "cell_type": "code",
   "execution_count": null,
   "id": "52d898f5-d33a-46b5-ad64-de46ebc532c7",
   "metadata": {},
   "outputs": [],
   "source": []
  },
  {
   "cell_type": "code",
   "execution_count": null,
   "id": "a5e9d01b-49f7-416d-9238-5459f3fecf80",
   "metadata": {},
   "outputs": [],
   "source": []
  },
  {
   "cell_type": "code",
   "execution_count": null,
   "id": "c9d20a5a-533f-4620-a5e1-75be5c13fc58",
   "metadata": {},
   "outputs": [],
   "source": []
  },
  {
   "cell_type": "code",
   "execution_count": null,
   "id": "64ca0a0f-75f5-4068-b9f2-65b65b549c8a",
   "metadata": {},
   "outputs": [],
   "source": []
  },
  {
   "cell_type": "markdown",
   "id": "96094db7-9949-4c77-9553-5ba36b51401c",
   "metadata": {},
   "source": [
    "## Data Training"
   ]
  },
  {
   "cell_type": "code",
   "execution_count": 465,
   "id": "e1b9a3d7-50c3-42cc-8b66-c78d24dc1117",
   "metadata": {},
   "outputs": [
    {
     "data": {
      "text/plain": [
       "KNeighborsClassifier(n_neighbors=3)"
      ]
     },
     "execution_count": 465,
     "metadata": {},
     "output_type": "execute_result"
    }
   ],
   "source": [
    "from sklearn.neighbors import KNeighborsClassifier\n",
    "classifier = KNeighborsClassifier(n_neighbors = 3)\n",
    "classifier.fit(X_train, y_train)"
   ]
  },
  {
   "cell_type": "markdown",
   "id": "b1c258bb-26c4-43b3-88c9-5317f2082b97",
   "metadata": {},
   "source": [
    "# We start prediction - يارب!"
   ]
  },
  {
   "cell_type": "markdown",
   "id": "a1991511-5c4b-40e0-aa46-0584c2f66018",
   "metadata": {},
   "source": [
    "# KNN"
   ]
  },
  {
   "cell_type": "code",
   "execution_count": 466,
   "id": "66028d0d-cbd0-45a8-bb2f-301265c1a5ac",
   "metadata": {},
   "outputs": [],
   "source": [
    "y_pred = classifier.predict(X_test)"
   ]
  },
  {
   "cell_type": "code",
   "execution_count": 478,
   "id": "43199b1c-c899-4c89-a687-e86de1f1059b",
   "metadata": {},
   "outputs": [
    {
     "name": "stdout",
     "output_type": "stream",
     "text": [
      "The KNN Accuracy: 0.64 %\n"
     ]
    }
   ],
   "source": [
    "from sklearn.metrics import classification_report, confusion_matrix, accuracy_score\n",
    "result = confusion_matrix(y_test, y_pred)\n",
    "#print(\"Confusion Matrix:\")\n",
    "#print(result)\n",
    "result1 = classification_report(y_test, y_pred)\n",
    "#print(\"Classification Report:\",)\n",
    "#print (result1)\n",
    "result2 = accuracy_score(y_test,y_pred)\n",
    "print(f'The KNN Accuracy: {result2:.2f} %')"
   ]
  },
  {
   "cell_type": "code",
   "execution_count": 468,
   "id": "dcfdbce0-28ee-4545-ad1a-d0b9013ed9fa",
   "metadata": {},
   "outputs": [
    {
     "name": "stdout",
     "output_type": "stream",
     "text": [
      "Support Vector Classifier accuracy: 67.86 %\n"
     ]
    }
   ],
   "source": []
  },
  {
   "cell_type": "code",
   "execution_count": 469,
   "id": "262a7bd3-efd7-4f36-9f61-086610f5dfb3",
   "metadata": {},
   "outputs": [
    {
     "name": "stderr",
     "output_type": "stream",
     "text": [
      "C:\\ProgramData\\Anaconda3\\lib\\site-packages\\sklearn\\metrics\\_classification.py:1248: UndefinedMetricWarning: Precision and F-score are ill-defined and being set to 0.0 in labels with no predicted samples. Use `zero_division` parameter to control this behavior.\n",
      "  _warn_prf(average, modifier, msg_start, len(result))\n",
      "C:\\ProgramData\\Anaconda3\\lib\\site-packages\\sklearn\\metrics\\_classification.py:1248: UndefinedMetricWarning: Precision and F-score are ill-defined and being set to 0.0 in labels with no predicted samples. Use `zero_division` parameter to control this behavior.\n",
      "  _warn_prf(average, modifier, msg_start, len(result))\n",
      "C:\\ProgramData\\Anaconda3\\lib\\site-packages\\sklearn\\metrics\\_classification.py:1248: UndefinedMetricWarning: Precision and F-score are ill-defined and being set to 0.0 in labels with no predicted samples. Use `zero_division` parameter to control this behavior.\n",
      "  _warn_prf(average, modifier, msg_start, len(result))\n"
     ]
    }
   ],
   "source": [
    "\n"
   ]
  },
  {
   "cell_type": "markdown",
   "id": "352ecc03-2907-4edc-8def-e0677f8dc6d4",
   "metadata": {},
   "source": [
    "# Logistic Regression"
   ]
  },
  {
   "cell_type": "code",
   "execution_count": 33,
   "id": "5ab5ec62-1de3-4f64-8b8a-13facd41b241",
   "metadata": {},
   "outputs": [
    {
     "name": "stdout",
     "output_type": "stream",
     "text": [
      "Logistic Regression Accuracy: 1.00 %\n"
     ]
    }
   ],
   "source": [
    "from sklearn.linear_model import LogisticRegression\n",
    "from sklearn.metrics import accuracy_score, confusion_matrix, classification_report\n",
    "\n",
    "#  Train the model\n",
    "LR_clf = LogisticRegression().fit(X_train, y_train)\n",
    "#  Let's test it Talentmine model!!\n",
    "LR_prediction = LR_clf.predict(X_test)\n",
    "# Now compare between predicted sports and actual athletes\n",
    "LR_accuracy = accuracy_score(y_test, LR_prediction)\n",
    "# Accuracy | الضبط \n",
    "print(f'Logistic Regression Accuracy: {LR_accuracy:.2f} %')"
   ]
  },
  {
   "cell_type": "code",
   "execution_count": null,
   "id": "bbcdb7b3-a35b-4301-9c76-e594e1292153",
   "metadata": {},
   "outputs": [],
   "source": []
  },
  {
   "cell_type": "code",
   "execution_count": null,
   "id": "e294a09d-bf4f-4a77-bc93-09bedaa11fe9",
   "metadata": {},
   "outputs": [],
   "source": []
  }
 ],
 "metadata": {
  "kernelspec": {
   "display_name": "Python 3 (ipykernel)",
   "language": "python",
   "name": "python3"
  },
  "language_info": {
   "codemirror_mode": {
    "name": "ipython",
    "version": 3
   },
   "file_extension": ".py",
   "mimetype": "text/x-python",
   "name": "python",
   "nbconvert_exporter": "python",
   "pygments_lexer": "ipython3",
   "version": "3.9.7"
  }
 },
 "nbformat": 4,
 "nbformat_minor": 5
}
