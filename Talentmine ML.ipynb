{
 "cells": [
  {
   "cell_type": "markdown",
   "id": "2816d79b-65d7-4a6c-8e99-c70d5b8eeeef",
   "metadata": {},
   "source": [
    "# Let's take on this challenge of new beinnings!"
   ]
  },
  {
   "cell_type": "markdown",
   "id": "04ee715c-90f5-48fd-9385-c79f8b0566b2",
   "metadata": {},
   "source": [
    "## Importing the Libraries"
   ]
  },
  {
   "cell_type": "code",
   "execution_count": 8,
   "id": "20765f22-ad51-4d49-baaa-376163e4c99d",
   "metadata": {},
   "outputs": [],
   "source": [
    "import numpy as np\n",
    "import matplotlib.pyplot as plt\n",
    "import pandas as pd\n"
   ]
  },
  {
   "cell_type": "markdown",
   "id": "49853123-d7ad-4eaf-85d2-8188896b7722",
   "metadata": {},
   "source": [
    "## Now we add the dataset"
   ]
  },
  {
   "cell_type": "code",
   "execution_count": 9,
   "id": "ce7546ad-fa6a-4fd8-9e50-9e48e20ef897",
   "metadata": {},
   "outputs": [],
   "source": [
    "path = \"DataEdited.csv\""
   ]
  },
  {
   "cell_type": "code",
   "execution_count": 10,
   "id": "61078a6e-7733-4dec-9a4e-c16ba15ecdd1",
   "metadata": {},
   "outputs": [
    {
     "data": {
      "text/html": [
       "<div>\n",
       "<style scoped>\n",
       "    .dataframe tbody tr th:only-of-type {\n",
       "        vertical-align: middle;\n",
       "    }\n",
       "\n",
       "    .dataframe tbody tr th {\n",
       "        vertical-align: top;\n",
       "    }\n",
       "\n",
       "    .dataframe thead th {\n",
       "        text-align: right;\n",
       "    }\n",
       "</style>\n",
       "<table border=\"1\" class=\"dataframe\">\n",
       "  <thead>\n",
       "    <tr style=\"text-align: right;\">\n",
       "      <th></th>\n",
       "      <th>Test_age_T1</th>\n",
       "      <th>Body_height_cm_T1</th>\n",
       "      <th>Sitting_height_cm_T1</th>\n",
       "      <th>Arm_span_cm_T1</th>\n",
       "      <th>Arm_length_cm_T1</th>\n",
       "      <th>Leg_length_cm_T1</th>\n",
       "      <th>Chest_girth_cm_T1</th>\n",
       "      <th>Shoulder_width_cm_T1</th>\n",
       "      <th>Crista_width_cm_T1</th>\n",
       "      <th>Calf_girth_cm_T1</th>\n",
       "      <th>...</th>\n",
       "      <th>Ankle_circumference_cm_T1</th>\n",
       "      <th>Subscapular_angle_mm_T1</th>\n",
       "      <th>Abdomen_mm_T1</th>\n",
       "      <th>Upper_arm_mm_T1</th>\n",
       "      <th>Tendon_length_cm_T1</th>\n",
       "      <th>Body_weight_kg_T1</th>\n",
       "      <th>Eye_hand_reaction_time</th>\n",
       "      <th>Heart_rate_rest_bpm_T1</th>\n",
       "      <th>Vital_capacity_ml_T1</th>\n",
       "      <th>Sport</th>\n",
       "    </tr>\n",
       "  </thead>\n",
       "  <tbody>\n",
       "    <tr>\n",
       "      <th>0</th>\n",
       "      <td>172</td>\n",
       "      <td>181.8</td>\n",
       "      <td>91.8</td>\n",
       "      <td>184.0</td>\n",
       "      <td>78.4</td>\n",
       "      <td>97.3</td>\n",
       "      <td>79.2</td>\n",
       "      <td>36.2</td>\n",
       "      <td>27.7</td>\n",
       "      <td>33.0</td>\n",
       "      <td>...</td>\n",
       "      <td>20.8</td>\n",
       "      <td>5.0</td>\n",
       "      <td>9.5</td>\n",
       "      <td>10.0</td>\n",
       "      <td>28.8</td>\n",
       "      <td>57.1</td>\n",
       "      <td>202</td>\n",
       "      <td>69</td>\n",
       "      <td>4315</td>\n",
       "      <td>basketball</td>\n",
       "    </tr>\n",
       "    <tr>\n",
       "      <th>1</th>\n",
       "      <td>172</td>\n",
       "      <td>170.7</td>\n",
       "      <td>91.3</td>\n",
       "      <td>169.8</td>\n",
       "      <td>70.2</td>\n",
       "      <td>88.2</td>\n",
       "      <td>81.1</td>\n",
       "      <td>37.1</td>\n",
       "      <td>28.3</td>\n",
       "      <td>35.5</td>\n",
       "      <td>...</td>\n",
       "      <td>21.7</td>\n",
       "      <td>7.5</td>\n",
       "      <td>9.0</td>\n",
       "      <td>8.5</td>\n",
       "      <td>23.0</td>\n",
       "      <td>56.3</td>\n",
       "      <td>234</td>\n",
       "      <td>62</td>\n",
       "      <td>3555</td>\n",
       "      <td>basketball</td>\n",
       "    </tr>\n",
       "    <tr>\n",
       "      <th>2</th>\n",
       "      <td>178</td>\n",
       "      <td>183.0</td>\n",
       "      <td>94.1</td>\n",
       "      <td>181.4</td>\n",
       "      <td>76.8</td>\n",
       "      <td>95.8</td>\n",
       "      <td>80.0</td>\n",
       "      <td>39.4</td>\n",
       "      <td>28.2</td>\n",
       "      <td>34.8</td>\n",
       "      <td>...</td>\n",
       "      <td>21.6</td>\n",
       "      <td>6.0</td>\n",
       "      <td>7.0</td>\n",
       "      <td>8.5</td>\n",
       "      <td>24.2</td>\n",
       "      <td>58.9</td>\n",
       "      <td>233</td>\n",
       "      <td>76</td>\n",
       "      <td>4450</td>\n",
       "      <td>basketball</td>\n",
       "    </tr>\n",
       "    <tr>\n",
       "      <th>3</th>\n",
       "      <td>178</td>\n",
       "      <td>184.2</td>\n",
       "      <td>93.0</td>\n",
       "      <td>188.8</td>\n",
       "      <td>82.4</td>\n",
       "      <td>99.6</td>\n",
       "      <td>78.3</td>\n",
       "      <td>36.4</td>\n",
       "      <td>27.9</td>\n",
       "      <td>33.1</td>\n",
       "      <td>...</td>\n",
       "      <td>24.2</td>\n",
       "      <td>6.0</td>\n",
       "      <td>7.5</td>\n",
       "      <td>9.0</td>\n",
       "      <td>26.1</td>\n",
       "      <td>57.0</td>\n",
       "      <td>201</td>\n",
       "      <td>75</td>\n",
       "      <td>4045</td>\n",
       "      <td>basketball</td>\n",
       "    </tr>\n",
       "    <tr>\n",
       "      <th>4</th>\n",
       "      <td>184</td>\n",
       "      <td>184.7</td>\n",
       "      <td>96.6</td>\n",
       "      <td>183.5</td>\n",
       "      <td>78.7</td>\n",
       "      <td>97.0</td>\n",
       "      <td>91.8</td>\n",
       "      <td>37.7</td>\n",
       "      <td>26.8</td>\n",
       "      <td>34.6</td>\n",
       "      <td>...</td>\n",
       "      <td>21.0</td>\n",
       "      <td>5.5</td>\n",
       "      <td>8.0</td>\n",
       "      <td>10.0</td>\n",
       "      <td>24.9</td>\n",
       "      <td>63.1</td>\n",
       "      <td>190</td>\n",
       "      <td>60</td>\n",
       "      <td>4145</td>\n",
       "      <td>basketball</td>\n",
       "    </tr>\n",
       "  </tbody>\n",
       "</table>\n",
       "<p>5 rows × 23 columns</p>\n",
       "</div>"
      ],
      "text/plain": [
       "   Test_age_T1  Body_height_cm_T1  Sitting_height_cm_T1  Arm_span_cm_T1  \\\n",
       "0          172              181.8                  91.8           184.0   \n",
       "1          172              170.7                  91.3           169.8   \n",
       "2          178              183.0                  94.1           181.4   \n",
       "3          178              184.2                  93.0           188.8   \n",
       "4          184              184.7                  96.6           183.5   \n",
       "\n",
       "   Arm_length_cm_T1  Leg_length_cm_T1  Chest_girth_cm_T1  \\\n",
       "0              78.4              97.3               79.2   \n",
       "1              70.2              88.2               81.1   \n",
       "2              76.8              95.8               80.0   \n",
       "3              82.4              99.6               78.3   \n",
       "4              78.7              97.0               91.8   \n",
       "\n",
       "   Shoulder_width_cm_T1  Crista_width_cm_T1  Calf_girth_cm_T1  ...  \\\n",
       "0                  36.2                27.7              33.0  ...   \n",
       "1                  37.1                28.3              35.5  ...   \n",
       "2                  39.4                28.2              34.8  ...   \n",
       "3                  36.4                27.9              33.1  ...   \n",
       "4                  37.7                26.8              34.6  ...   \n",
       "\n",
       "   Ankle_circumference_cm_T1  Subscapular_angle_mm_T1  Abdomen_mm_T1  \\\n",
       "0                       20.8                      5.0            9.5   \n",
       "1                       21.7                      7.5            9.0   \n",
       "2                       21.6                      6.0            7.0   \n",
       "3                       24.2                      6.0            7.5   \n",
       "4                       21.0                      5.5            8.0   \n",
       "\n",
       "   Upper_arm_mm_T1  Tendon_length_cm_T1  Body_weight_kg_T1  \\\n",
       "0             10.0                 28.8               57.1   \n",
       "1              8.5                 23.0               56.3   \n",
       "2              8.5                 24.2               58.9   \n",
       "3              9.0                 26.1               57.0   \n",
       "4             10.0                 24.9               63.1   \n",
       "\n",
       "   Eye_hand_reaction_time  Heart_rate_rest_bpm_T1  Vital_capacity_ml_T1  \\\n",
       "0                     202                      69                  4315   \n",
       "1                     234                      62                  3555   \n",
       "2                     233                      76                  4450   \n",
       "3                     201                      75                  4045   \n",
       "4                     190                      60                  4145   \n",
       "\n",
       "        Sport  \n",
       "0  basketball  \n",
       "1  basketball  \n",
       "2  basketball  \n",
       "3  basketball  \n",
       "4  basketball  \n",
       "\n",
       "[5 rows x 23 columns]"
      ]
     },
     "execution_count": 10,
     "metadata": {},
     "output_type": "execute_result"
    }
   ],
   "source": [
    "dataset = pd.read_csv(path)\n",
    "dataset.head()"
   ]
  },
  {
   "cell_type": "code",
   "execution_count": 11,
   "id": "5618683a-e343-42bf-b459-3533391523b1",
   "metadata": {},
   "outputs": [
    {
     "data": {
      "text/plain": [
       "Test_age_T1                    int64\n",
       "Body_height_cm_T1            float64\n",
       "Sitting_height_cm_T1         float64\n",
       "Arm_span_cm_T1               float64\n",
       "Arm_length_cm_T1             float64\n",
       "Leg_length_cm_T1             float64\n",
       "Chest_girth_cm_T1            float64\n",
       "Shoulder_width_cm_T1         float64\n",
       "Crista_width_cm_T1           float64\n",
       "Calf_girth_cm_T1             float64\n",
       "Thigh_circumference_cm_T1    float64\n",
       "Waist_girth_cm_T1            float64\n",
       "LowerLeg_length_cm_T1        float64\n",
       "Ankle_circumference_cm_T1    float64\n",
       "Subscapular_angle_mm_T1      float64\n",
       "Abdomen_mm_T1                float64\n",
       "Upper_arm_mm_T1              float64\n",
       "Tendon_length_cm_T1          float64\n",
       "Body_weight_kg_T1            float64\n",
       "Eye_hand_reaction_time         int64\n",
       "Heart_rate_rest_bpm_T1         int64\n",
       "Vital_capacity_ml_T1           int64\n",
       "Sport                         object\n",
       "dtype: object"
      ]
     },
     "execution_count": 11,
     "metadata": {},
     "output_type": "execute_result"
    }
   ],
   "source": [
    "dataset.dtypes"
   ]
  },
  {
   "cell_type": "markdown",
   "id": "d7291afb-982a-47b5-b685-adc40da8635e",
   "metadata": {},
   "source": [
    "## Data Preprocessing"
   ]
  },
  {
   "cell_type": "code",
   "execution_count": 12,
   "id": "acf4a1c0-1ddf-4c8c-91e3-7e5b98d1a60f",
   "metadata": {},
   "outputs": [],
   "source": [
    "from sklearn.preprocessing import LabelEncoder\n",
    "from sklearn import utils\n",
    "le = LabelEncoder()\n",
    "dataset[\"Sport\"] = le.fit_transform(dataset[\"Sport\"])\n"
   ]
  },
  {
   "cell_type": "code",
   "execution_count": 397,
   "id": "ed137373-a65c-4525-928d-6b52eae4d534",
   "metadata": {},
   "outputs": [],
   "source": [
    "#Age, Height, Arm Length, Leg Length\n",
    "#All Anthropometric 42%\n",
    "#Removed 0 Age 52%\n",
    "#Removed 2 Sitting Height 36%\n",
    "#Removed 3 Arm Span 39%\n",
    "#Removed 4 Arm Length 44%\n",
    "#Removed 5 Leg Length 39%\n",
    "#Removed 6 Chest Girth 34%\n",
    "#Removed 7 Shoulder Width 39%\n",
    "#Removed 8 Crista Width 44%\n",
    "#Removed 9 Calf Girth 44% XXX\n",
    "#Removed 10 Thigh Circu 39%\n",
    "#Removed 11 Waist Girth 42%\n",
    "#Removed 12 LowerLeg Length 39%\n",
    "#Removed 13 Ankle Circum 36%\n",
    "#Removed 14 Subscapular Angle 44% XX\n",
    "#Removed 15 Abdomen MM 47% XX\n",
    "#Removed 16 Upper Arm mm 50% XX\n",
    "#Removed 17 Tendon Length 44% \n",
    "#Removed 18 Body Weight 39%\n",
    "#Heart Rate 22 Is good indicator\n",
    "\n",
    "#Removed > Age, Upper Arm MM, Abdomen MM 47%\n",
    "#Removed > Age, Upper Arm MM, Abdomen MM > Subscapular Angle, Calf, Tendon Length 42%\n",
    "#height, Weight, Arm Length, Leg Length 44%\n",
    "#Height, Weight, Arm Length, Leg Length, Chest Girth 52%\n",
    "#Height, Weight, Arm Length, Leg Length, Waist 50%\n",
    "z = dataset.iloc[:, 18].values\n",
    "X = dataset.iloc[:, [1,18,4,5,6]].values\n",
    "y = dataset.iloc[:, 22].values"
   ]
  },
  {
   "cell_type": "markdown",
   "id": "3d91546c-3aae-487e-b2f9-20cb872aafef",
   "metadata": {},
   "source": [
    "## Divide the data into train and test datasets into 70% training and 30% testing"
   ]
  },
  {
   "cell_type": "code",
   "execution_count": 463,
   "id": "393a74d5-141a-4bc6-991a-b95f0c1ae7e7",
   "metadata": {},
   "outputs": [],
   "source": [
    "from sklearn.model_selection import train_test_split\n",
    "X_train, X_test, y_train, y_test = train_test_split(X, y, test_size = 0.30, random_state = 17)"
   ]
  },
  {
   "cell_type": "markdown",
   "id": "ffff7caf-59c3-4180-b387-7e83a6755c8d",
   "metadata": {},
   "source": [
    "## Data scaling"
   ]
  },
  {
   "cell_type": "code",
   "execution_count": 464,
   "id": "bd1fa267-2511-43a5-a186-43cf2c9d331f",
   "metadata": {},
   "outputs": [],
   "source": [
    "from sklearn.preprocessing import StandardScaler\n",
    "scaler = StandardScaler()\n",
    "scaler.fit(X_train)\n",
    "X_train = scaler.transform(X_train)\n",
    "X_test = scaler.transform(X_test)"
   ]
  },
  {
   "cell_type": "markdown",
   "id": "96094db7-9949-4c77-9553-5ba36b51401c",
   "metadata": {},
   "source": [
    "## Data Training"
   ]
  },
  {
   "cell_type": "code",
   "execution_count": 465,
   "id": "e1b9a3d7-50c3-42cc-8b66-c78d24dc1117",
   "metadata": {},
   "outputs": [
    {
     "data": {
      "text/plain": [
       "KNeighborsClassifier(n_neighbors=3)"
      ]
     },
     "execution_count": 465,
     "metadata": {},
     "output_type": "execute_result"
    }
   ],
   "source": [
    "from sklearn.neighbors import KNeighborsClassifier\n",
    "classifier = KNeighborsClassifier(n_neighbors = 3)\n",
    "classifier.fit(X_train, y_train)"
   ]
  },
  {
   "cell_type": "markdown",
   "id": "b1c258bb-26c4-43b3-88c9-5317f2082b97",
   "metadata": {},
   "source": [
    "# We start prediction - يارب!"
   ]
  },
  {
   "cell_type": "markdown",
   "id": "a1991511-5c4b-40e0-aa46-0584c2f66018",
   "metadata": {},
   "source": [
    "# KNN"
   ]
  },
  {
   "cell_type": "code",
   "execution_count": 466,
   "id": "66028d0d-cbd0-45a8-bb2f-301265c1a5ac",
   "metadata": {},
   "outputs": [],
   "source": [
    "y_pred = classifier.predict(X_test)"
   ]
  },
  {
   "cell_type": "code",
   "execution_count": 478,
   "id": "43199b1c-c899-4c89-a687-e86de1f1059b",
   "metadata": {},
   "outputs": [
    {
     "name": "stdout",
     "output_type": "stream",
     "text": [
      "The KNN Accuracy: 0.64 %\n"
     ]
    }
   ],
   "source": [
    "from sklearn.metrics import classification_report, confusion_matrix, accuracy_score\n",
    "result = confusion_matrix(y_test, y_pred)\n",
    "#print(\"Confusion Matrix:\")\n",
    "#print(result)\n",
    "result1 = classification_report(y_test, y_pred)\n",
    "#print(\"Classification Report:\",)\n",
    "#print (result1)\n",
    "result2 = accuracy_score(y_test,y_pred)\n",
    "print(f'The KNN Accuracy: {result2:.2f} %')"
   ]
  },
  {
   "cell_type": "code",
   "execution_count": 468,
   "id": "dcfdbce0-28ee-4545-ad1a-d0b9013ed9fa",
   "metadata": {},
   "outputs": [
    {
     "name": "stdout",
     "output_type": "stream",
     "text": [
      "Support Vector Classifier accuracy: 67.86 %\n"
     ]
    }
   ],
   "source": []
  },
  {
   "cell_type": "code",
   "execution_count": 469,
   "id": "262a7bd3-efd7-4f36-9f61-086610f5dfb3",
   "metadata": {},
   "outputs": [
    {
     "name": "stderr",
     "output_type": "stream",
     "text": [
      "C:\\ProgramData\\Anaconda3\\lib\\site-packages\\sklearn\\metrics\\_classification.py:1248: UndefinedMetricWarning: Precision and F-score are ill-defined and being set to 0.0 in labels with no predicted samples. Use `zero_division` parameter to control this behavior.\n",
      "  _warn_prf(average, modifier, msg_start, len(result))\n",
      "C:\\ProgramData\\Anaconda3\\lib\\site-packages\\sklearn\\metrics\\_classification.py:1248: UndefinedMetricWarning: Precision and F-score are ill-defined and being set to 0.0 in labels with no predicted samples. Use `zero_division` parameter to control this behavior.\n",
      "  _warn_prf(average, modifier, msg_start, len(result))\n",
      "C:\\ProgramData\\Anaconda3\\lib\\site-packages\\sklearn\\metrics\\_classification.py:1248: UndefinedMetricWarning: Precision and F-score are ill-defined and being set to 0.0 in labels with no predicted samples. Use `zero_division` parameter to control this behavior.\n",
      "  _warn_prf(average, modifier, msg_start, len(result))\n"
     ]
    }
   ],
   "source": [
    "\n"
   ]
  },
  {
   "cell_type": "markdown",
   "id": "352ecc03-2907-4edc-8def-e0677f8dc6d4",
   "metadata": {},
   "source": [
    "# Logistic Regression"
   ]
  },
  {
   "cell_type": "code",
   "execution_count": 479,
   "id": "5ab5ec62-1de3-4f64-8b8a-13facd41b241",
   "metadata": {},
   "outputs": [
    {
     "name": "stdout",
     "output_type": "stream",
     "text": [
      "Logistic Regression Accuracy: 0.75 %\n"
     ]
    }
   ],
   "source": [
    "#  Train the model\n",
    "LR_clf = LogisticRegression().fit(X_train, y_train)\n",
    "#  Let's test it Talentmine model!!\n",
    "LR_prediction = LR_clf.predict(X_test)\n",
    "# Now compare between predicted sports and actual athletes\n",
    "LR_accuracy = accuracy_score(y_test, LR_prediction)\n",
    "# Accuracy | الضبط \n",
    "print(f'Logistic Regression Accuracy: {LR_accuracy:.2f} %')"
   ]
  },
  {
   "cell_type": "code",
   "execution_count": null,
   "id": "bbcdb7b3-a35b-4301-9c76-e594e1292153",
   "metadata": {},
   "outputs": [],
   "source": []
  },
  {
   "cell_type": "code",
   "execution_count": null,
   "id": "e294a09d-bf4f-4a77-bc93-09bedaa11fe9",
   "metadata": {},
   "outputs": [],
   "source": []
  }
 ],
 "metadata": {
  "kernelspec": {
   "display_name": "Python 3 (ipykernel)",
   "language": "python",
   "name": "python3"
  },
  "language_info": {
   "codemirror_mode": {
    "name": "ipython",
    "version": 3
   },
   "file_extension": ".py",
   "mimetype": "text/x-python",
   "name": "python",
   "nbconvert_exporter": "python",
   "pygments_lexer": "ipython3",
   "version": "3.9.7"
  }
 },
 "nbformat": 4,
 "nbformat_minor": 5
}
