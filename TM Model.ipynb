{
 "cells": [
  {
   "cell_type": "markdown",
   "id": "2816d79b-65d7-4a6c-8e99-c70d5b8eeeef",
   "metadata": {},
   "source": [
    "# Let's take on this challenge of new beinnings!"
   ]
  },
  {
   "cell_type": "markdown",
   "id": "04ee715c-90f5-48fd-9385-c79f8b0566b2",
   "metadata": {},
   "source": [
    "## Importing the Libraries"
   ]
  },
  {
   "cell_type": "code",
   "execution_count": 12,
   "id": "20765f22-ad51-4d49-baaa-376163e4c99d",
   "metadata": {},
   "outputs": [],
   "source": [
    "import numpy as np\n",
    "import matplotlib.pyplot as plt\n",
    "import pandas as pd\n",
    "from sklearn.cluster import KMeans\n",
    "from sklearn import metrics"
   ]
  },
  {
   "cell_type": "markdown",
   "id": "49853123-d7ad-4eaf-85d2-8188896b7722",
   "metadata": {},
   "source": [
    "## Now we add the dataset"
   ]
  },
  {
   "cell_type": "code",
   "execution_count": 13,
   "id": "ce7546ad-fa6a-4fd8-9e50-9e48e20ef897",
   "metadata": {},
   "outputs": [],
   "source": [
    "path = \"DataEdited.csv\""
   ]
  },
  {
   "cell_type": "code",
   "execution_count": 14,
   "id": "61078a6e-7733-4dec-9a4e-c16ba15ecdd1",
   "metadata": {},
   "outputs": [
    {
     "data": {
      "text/html": [
       "<div>\n",
       "<style scoped>\n",
       "    .dataframe tbody tr th:only-of-type {\n",
       "        vertical-align: middle;\n",
       "    }\n",
       "\n",
       "    .dataframe tbody tr th {\n",
       "        vertical-align: top;\n",
       "    }\n",
       "\n",
       "    .dataframe thead th {\n",
       "        text-align: right;\n",
       "    }\n",
       "</style>\n",
       "<table border=\"1\" class=\"dataframe\">\n",
       "  <thead>\n",
       "    <tr style=\"text-align: right;\">\n",
       "      <th></th>\n",
       "      <th>Test_age_T1</th>\n",
       "      <th>Body_height_cm_T1</th>\n",
       "      <th>Sitting_height_cm_T1</th>\n",
       "      <th>Arm_span_cm_T1</th>\n",
       "      <th>Arm_length_cm_T1</th>\n",
       "      <th>Leg_length_cm_T1</th>\n",
       "      <th>Chest_girth_cm_T1</th>\n",
       "      <th>Shoulder_width_cm_T1</th>\n",
       "      <th>Crista_width_cm_T1</th>\n",
       "      <th>Calf_girth_cm_T1</th>\n",
       "      <th>...</th>\n",
       "      <th>Ankle_circumference_cm_T1</th>\n",
       "      <th>Subscapular_angle_mm_T1</th>\n",
       "      <th>Abdomen_mm_T1</th>\n",
       "      <th>Upper_arm_mm_T1</th>\n",
       "      <th>Tendon_length_cm_T1</th>\n",
       "      <th>Body_weight_kg_T1</th>\n",
       "      <th>Eye_hand_reaction_time</th>\n",
       "      <th>Heart_rate_rest_bpm_T1</th>\n",
       "      <th>Vital_capacity_ml_T1</th>\n",
       "      <th>Sport</th>\n",
       "    </tr>\n",
       "  </thead>\n",
       "  <tbody>\n",
       "    <tr>\n",
       "      <th>0</th>\n",
       "      <td>172</td>\n",
       "      <td>181.8</td>\n",
       "      <td>91.8</td>\n",
       "      <td>184.0</td>\n",
       "      <td>78.4</td>\n",
       "      <td>97.3</td>\n",
       "      <td>79.2</td>\n",
       "      <td>36.2</td>\n",
       "      <td>27.7</td>\n",
       "      <td>33.0</td>\n",
       "      <td>...</td>\n",
       "      <td>20.8</td>\n",
       "      <td>5.0</td>\n",
       "      <td>9.5</td>\n",
       "      <td>10.0</td>\n",
       "      <td>28.8</td>\n",
       "      <td>57.1</td>\n",
       "      <td>202</td>\n",
       "      <td>69</td>\n",
       "      <td>4315</td>\n",
       "      <td>basketball</td>\n",
       "    </tr>\n",
       "    <tr>\n",
       "      <th>1</th>\n",
       "      <td>172</td>\n",
       "      <td>170.7</td>\n",
       "      <td>91.3</td>\n",
       "      <td>169.8</td>\n",
       "      <td>70.2</td>\n",
       "      <td>88.2</td>\n",
       "      <td>81.1</td>\n",
       "      <td>37.1</td>\n",
       "      <td>28.3</td>\n",
       "      <td>35.5</td>\n",
       "      <td>...</td>\n",
       "      <td>21.7</td>\n",
       "      <td>7.5</td>\n",
       "      <td>9.0</td>\n",
       "      <td>8.5</td>\n",
       "      <td>23.0</td>\n",
       "      <td>56.3</td>\n",
       "      <td>234</td>\n",
       "      <td>62</td>\n",
       "      <td>3555</td>\n",
       "      <td>basketball</td>\n",
       "    </tr>\n",
       "    <tr>\n",
       "      <th>2</th>\n",
       "      <td>178</td>\n",
       "      <td>183.0</td>\n",
       "      <td>94.1</td>\n",
       "      <td>181.4</td>\n",
       "      <td>76.8</td>\n",
       "      <td>95.8</td>\n",
       "      <td>80.0</td>\n",
       "      <td>39.4</td>\n",
       "      <td>28.2</td>\n",
       "      <td>34.8</td>\n",
       "      <td>...</td>\n",
       "      <td>21.6</td>\n",
       "      <td>6.0</td>\n",
       "      <td>7.0</td>\n",
       "      <td>8.5</td>\n",
       "      <td>24.2</td>\n",
       "      <td>58.9</td>\n",
       "      <td>233</td>\n",
       "      <td>76</td>\n",
       "      <td>4450</td>\n",
       "      <td>basketball</td>\n",
       "    </tr>\n",
       "    <tr>\n",
       "      <th>3</th>\n",
       "      <td>178</td>\n",
       "      <td>184.2</td>\n",
       "      <td>93.0</td>\n",
       "      <td>188.8</td>\n",
       "      <td>82.4</td>\n",
       "      <td>99.6</td>\n",
       "      <td>78.3</td>\n",
       "      <td>36.4</td>\n",
       "      <td>27.9</td>\n",
       "      <td>33.1</td>\n",
       "      <td>...</td>\n",
       "      <td>24.2</td>\n",
       "      <td>6.0</td>\n",
       "      <td>7.5</td>\n",
       "      <td>9.0</td>\n",
       "      <td>26.1</td>\n",
       "      <td>57.0</td>\n",
       "      <td>201</td>\n",
       "      <td>75</td>\n",
       "      <td>4045</td>\n",
       "      <td>basketball</td>\n",
       "    </tr>\n",
       "    <tr>\n",
       "      <th>4</th>\n",
       "      <td>184</td>\n",
       "      <td>184.7</td>\n",
       "      <td>96.6</td>\n",
       "      <td>183.5</td>\n",
       "      <td>78.7</td>\n",
       "      <td>97.0</td>\n",
       "      <td>91.8</td>\n",
       "      <td>37.7</td>\n",
       "      <td>26.8</td>\n",
       "      <td>34.6</td>\n",
       "      <td>...</td>\n",
       "      <td>21.0</td>\n",
       "      <td>5.5</td>\n",
       "      <td>8.0</td>\n",
       "      <td>10.0</td>\n",
       "      <td>24.9</td>\n",
       "      <td>63.1</td>\n",
       "      <td>190</td>\n",
       "      <td>60</td>\n",
       "      <td>4145</td>\n",
       "      <td>basketball</td>\n",
       "    </tr>\n",
       "  </tbody>\n",
       "</table>\n",
       "<p>5 rows × 23 columns</p>\n",
       "</div>"
      ],
      "text/plain": [
       "   Test_age_T1  Body_height_cm_T1  Sitting_height_cm_T1  Arm_span_cm_T1  \\\n",
       "0          172              181.8                  91.8           184.0   \n",
       "1          172              170.7                  91.3           169.8   \n",
       "2          178              183.0                  94.1           181.4   \n",
       "3          178              184.2                  93.0           188.8   \n",
       "4          184              184.7                  96.6           183.5   \n",
       "\n",
       "   Arm_length_cm_T1  Leg_length_cm_T1  Chest_girth_cm_T1  \\\n",
       "0              78.4              97.3               79.2   \n",
       "1              70.2              88.2               81.1   \n",
       "2              76.8              95.8               80.0   \n",
       "3              82.4              99.6               78.3   \n",
       "4              78.7              97.0               91.8   \n",
       "\n",
       "   Shoulder_width_cm_T1  Crista_width_cm_T1  Calf_girth_cm_T1  ...  \\\n",
       "0                  36.2                27.7              33.0  ...   \n",
       "1                  37.1                28.3              35.5  ...   \n",
       "2                  39.4                28.2              34.8  ...   \n",
       "3                  36.4                27.9              33.1  ...   \n",
       "4                  37.7                26.8              34.6  ...   \n",
       "\n",
       "   Ankle_circumference_cm_T1  Subscapular_angle_mm_T1  Abdomen_mm_T1  \\\n",
       "0                       20.8                      5.0            9.5   \n",
       "1                       21.7                      7.5            9.0   \n",
       "2                       21.6                      6.0            7.0   \n",
       "3                       24.2                      6.0            7.5   \n",
       "4                       21.0                      5.5            8.0   \n",
       "\n",
       "   Upper_arm_mm_T1  Tendon_length_cm_T1  Body_weight_kg_T1  \\\n",
       "0             10.0                 28.8               57.1   \n",
       "1              8.5                 23.0               56.3   \n",
       "2              8.5                 24.2               58.9   \n",
       "3              9.0                 26.1               57.0   \n",
       "4             10.0                 24.9               63.1   \n",
       "\n",
       "   Eye_hand_reaction_time  Heart_rate_rest_bpm_T1  Vital_capacity_ml_T1  \\\n",
       "0                     202                      69                  4315   \n",
       "1                     234                      62                  3555   \n",
       "2                     233                      76                  4450   \n",
       "3                     201                      75                  4045   \n",
       "4                     190                      60                  4145   \n",
       "\n",
       "        Sport  \n",
       "0  basketball  \n",
       "1  basketball  \n",
       "2  basketball  \n",
       "3  basketball  \n",
       "4  basketball  \n",
       "\n",
       "[5 rows x 23 columns]"
      ]
     },
     "execution_count": 14,
     "metadata": {},
     "output_type": "execute_result"
    }
   ],
   "source": [
    "dataset = pd.read_csv(path)\n",
    "dataset.head()"
   ]
  },
  {
   "cell_type": "code",
   "execution_count": null,
   "id": "5618683a-e343-42bf-b459-3533391523b1",
   "metadata": {},
   "outputs": [],
   "source": []
  },
  {
   "cell_type": "markdown",
   "id": "d7291afb-982a-47b5-b685-adc40da8635e",
   "metadata": {},
   "source": [
    "## Data Preprocessing"
   ]
  },
  {
   "cell_type": "code",
   "execution_count": 15,
   "id": "acf4a1c0-1ddf-4c8c-91e3-7e5b98d1a60f",
   "metadata": {},
   "outputs": [
    {
     "data": {
      "text/plain": [
       "Test_age_T1                    int64\n",
       "Body_height_cm_T1            float64\n",
       "Sitting_height_cm_T1         float64\n",
       "Arm_span_cm_T1               float64\n",
       "Arm_length_cm_T1             float64\n",
       "Leg_length_cm_T1             float64\n",
       "Chest_girth_cm_T1            float64\n",
       "Shoulder_width_cm_T1         float64\n",
       "Crista_width_cm_T1           float64\n",
       "Calf_girth_cm_T1             float64\n",
       "Thigh_circumference_cm_T1    float64\n",
       "Waist_girth_cm_T1            float64\n",
       "LowerLeg_length_cm_T1        float64\n",
       "Ankle_circumference_cm_T1    float64\n",
       "Subscapular_angle_mm_T1      float64\n",
       "Abdomen_mm_T1                float64\n",
       "Upper_arm_mm_T1              float64\n",
       "Tendon_length_cm_T1          float64\n",
       "Body_weight_kg_T1            float64\n",
       "Eye_hand_reaction_time         int64\n",
       "Heart_rate_rest_bpm_T1         int64\n",
       "Vital_capacity_ml_T1           int64\n",
       "Sport                          int32\n",
       "dtype: object"
      ]
     },
     "execution_count": 15,
     "metadata": {},
     "output_type": "execute_result"
    }
   ],
   "source": [
    "from sklearn.preprocessing import LabelEncoder\n",
    "from sklearn import utils\n",
    "le = LabelEncoder()\n",
    "dataset[\"Sport\"] = le.fit_transform(dataset[\"Sport\"])\n",
    "dataset.dtypes\n"
   ]
  },
  {
   "cell_type": "code",
   "execution_count": 18,
   "id": "e850c67a-5646-4fa3-ace8-5e8b5c606139",
   "metadata": {},
   "outputs": [],
   "source": [
    "z = dataset.iloc[:, 18].values\n",
    "X = dataset.iloc[:, [1,18,4,5,6]].values\n",
    "y = dataset.iloc[:, 22].values"
   ]
  },
  {
   "cell_type": "code",
   "execution_count": 19,
   "id": "a8bd8654-46d5-435c-97bc-8792e7a15664",
   "metadata": {},
   "outputs": [],
   "source": [
    "from sklearn.model_selection import train_test_split\n",
    "X_train, X_test, y_train, y_test = train_test_split(X, y, test_size = 0.30, random_state = 17)"
   ]
  },
  {
   "cell_type": "markdown",
   "id": "ffff7caf-59c3-4180-b387-7e83a6755c8d",
   "metadata": {
    "tags": []
   },
   "source": [
    "## Data scaling"
   ]
  },
  {
   "cell_type": "code",
   "execution_count": 20,
   "id": "53571748-844a-4518-89d1-c81a05e00cd5",
   "metadata": {},
   "outputs": [],
   "source": [
    "from sklearn.preprocessing import StandardScaler\n",
    "scaler = StandardScaler()\n",
    "scaler.fit(X_train)\n",
    "X_train = scaler.transform(X_train)\n",
    "X_test = scaler.transform(X_test)"
   ]
  },
  {
   "cell_type": "code",
   "execution_count": 21,
   "id": "4f4f33a7-d623-43a4-b05d-c0d1a6ef266f",
   "metadata": {},
   "outputs": [
    {
     "data": {
      "text/plain": [
       "KNeighborsClassifier(n_neighbors=3)"
      ]
     },
     "execution_count": 21,
     "metadata": {},
     "output_type": "execute_result"
    }
   ],
   "source": [
    "from sklearn.neighbors import KNeighborsClassifier\n",
    "classifier = KNeighborsClassifier(n_neighbors = 3)\n",
    "classifier.fit(X_train, y_train)"
   ]
  },
  {
   "cell_type": "markdown",
   "id": "b1c258bb-26c4-43b3-88c9-5317f2082b97",
   "metadata": {
    "tags": []
   },
   "source": [
    "# We start the prediction"
   ]
  },
  {
   "cell_type": "markdown",
   "id": "bda92b74-8998-4cdd-acef-0409d607fda2",
   "metadata": {},
   "source": [
    "### K-Means cluster (Under-development)"
   ]
  },
  {
   "cell_type": "code",
   "execution_count": 28,
   "id": "d3bc3fea-fd5e-4fbe-ae22-cf8caaa69c18",
   "metadata": {},
   "outputs": [
    {
     "data": {
      "text/plain": [
       "KMeans(n_clusters=3)"
      ]
     },
     "execution_count": 28,
     "metadata": {},
     "output_type": "execute_result"
    }
   ],
   "source": [
    "# fitting KMeans    \n",
    "kmeans = KMeans(n_clusters=3)\n",
    "kmeans.fit(dataset)"
   ]
  },
  {
   "cell_type": "markdown",
   "id": "9a4303ad-0cd1-4832-a8de-a23d941d78df",
   "metadata": {},
   "source": [
    "### Decision Tree Classifier"
   ]
  },
  {
   "cell_type": "code",
   "execution_count": 29,
   "id": "a4b39a3d-f771-4a2d-9888-3dbcd369f49f",
   "metadata": {},
   "outputs": [
    {
     "name": "stdout",
     "output_type": "stream",
     "text": [
      "0.5\n"
     ]
    }
   ],
   "source": [
    "from sklearn.tree import DecisionTreeClassifier\n",
    "from sklearn.metrics import confusion_matrix\n",
    "dtree_model = DecisionTreeClassifier(max_depth = 2).fit(X_train, y_train)\n",
    "dtree_predictions = dtree_model.predict(X_test)\n",
    "accuracy = dtree_model.score(X_test, y_test)\n",
    "print(accuracy)\n",
    "# creating a confusion matrix\n",
    "cm = confusion_matrix(y_test, dtree_predictions)"
   ]
  },
  {
   "cell_type": "markdown",
   "id": "9c546cee-08af-47f5-8ffc-16f3b43d3739",
   "metadata": {},
   "source": [
    "### SVM Classifier"
   ]
  },
  {
   "cell_type": "code",
   "execution_count": 30,
   "id": "9730ba1b-75a2-4758-ab4f-de1f198628e4",
   "metadata": {},
   "outputs": [
    {
     "name": "stdout",
     "output_type": "stream",
     "text": [
      "0.75\n"
     ]
    }
   ],
   "source": [
    "from sklearn import datasets\n",
    "from sklearn.metrics import confusion_matrix\n",
    "from sklearn.model_selection import train_test_split\n",
    "\n",
    "# training a linear SVM classifier\n",
    "from sklearn.svm import SVC\n",
    "svm_model_linear = SVC(kernel = 'linear', C = 1).fit(X_train, y_train)\n",
    "svm_predictions = svm_model_linear.predict(X_test)\n",
    "  \n",
    "# model accuracy for X_test  \n",
    "accuracy = svm_model_linear.score(X_test, y_test)\n",
    "print(accuracy)\n",
    "# creating a confusion matrix\n",
    "cm = confusion_matrix(y_test, svm_predictions)"
   ]
  },
  {
   "cell_type": "markdown",
   "id": "6213e6a3-7f91-4151-b78e-d17c9708cb9f",
   "metadata": {},
   "source": [
    "### KNN Classifier"
   ]
  },
  {
   "cell_type": "code",
   "execution_count": 31,
   "id": "aa7f5670-d666-429d-a621-ec357783946e",
   "metadata": {},
   "outputs": [
    {
     "name": "stdout",
     "output_type": "stream",
     "text": [
      "0.6428571428571429\n"
     ]
    }
   ],
   "source": [
    "# training a KNN classifier\n",
    "from sklearn.neighbors import KNeighborsClassifier\n",
    "knn = KNeighborsClassifier(n_neighbors = 7).fit(X_train, y_train)\n",
    "  \n",
    "# accuracy on X_test\n",
    "accuracy = knn.score(X_test, y_test)\n",
    "print (accuracy)\n",
    "  \n",
    "# creating a confusion matrix\n",
    "knn_predictions = knn.predict(X_test) \n",
    "cm = confusion_matrix(y_test, knn_predictions)\n"
   ]
  },
  {
   "cell_type": "markdown",
   "id": "2afcd316-3e89-43a9-90e5-eeb0baa84113",
   "metadata": {},
   "source": [
    "### Logistic Regression"
   ]
  },
  {
   "cell_type": "code",
   "execution_count": 32,
   "id": "57364ce3-ff44-4cec-8d80-48bd2abd3475",
   "metadata": {},
   "outputs": [
    {
     "name": "stdout",
     "output_type": "stream",
     "text": [
      "Logistic Regression Accuracy: 0.75 %\n"
     ]
    }
   ],
   "source": [
    "from sklearn.linear_model import LogisticRegression\n",
    "from sklearn.metrics import accuracy_score, confusion_matrix, classification_report\n",
    "#  Train the model\n",
    "LR_clf = LogisticRegression().fit(X_train, y_train)\n",
    "#  Let's test it Talentmine model!!\n",
    "LR_prediction = LR_clf.predict(X_test)\n",
    "# Now compare between predicted sports and actual athletes\n",
    "LR_accuracy = accuracy_score(y_test, LR_prediction)\n",
    "# Accuracy | الضبط \n",
    "print(f'Logistic Regression Accuracy: {LR_accuracy:.2f} %')"
   ]
  },
  {
   "cell_type": "markdown",
   "id": "9a4f069e-986c-45e1-939b-09d315e4780d",
   "metadata": {},
   "source": [
    "### Naive Bayes"
   ]
  },
  {
   "cell_type": "code",
   "execution_count": 33,
   "id": "2791066e-f260-46b7-84d0-a336f48b2c5d",
   "metadata": {},
   "outputs": [
    {
     "name": "stdout",
     "output_type": "stream",
     "text": [
      "0.6071428571428571\n"
     ]
    }
   ],
   "source": [
    "\n",
    "# training a Naive Bayes classifier\n",
    "from sklearn.naive_bayes import GaussianNB\n",
    "gnb = GaussianNB().fit(X_train, y_train)\n",
    "gnb_predictions = gnb.predict(X_test)\n",
    "  \n",
    "# accuracy on X_test\n",
    "accuracy = gnb.score(X_test, y_test)\n",
    "print (accuracy)\n",
    "  \n",
    "# creating a confusion matrix\n",
    "cm = confusion_matrix(y_test, gnb_predictions)"
   ]
  }
 ],
 "metadata": {
  "kernelspec": {
   "display_name": "Python 3 (ipykernel)",
   "language": "python",
   "name": "python3"
  },
  "language_info": {
   "codemirror_mode": {
    "name": "ipython",
    "version": 3
   },
   "file_extension": ".py",
   "mimetype": "text/x-python",
   "name": "python",
   "nbconvert_exporter": "python",
   "pygments_lexer": "ipython3",
   "version": "3.9.7"
  }
 },
 "nbformat": 4,
 "nbformat_minor": 5
}
