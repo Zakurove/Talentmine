{
 "cells": [
  {
   "cell_type": "markdown",
   "id": "2816d79b-65d7-4a6c-8e99-c70d5b8eeeef",
   "metadata": {},
   "source": [
    "# Let's take on this challenge of new beinnings!"
   ]
  },
  {
   "cell_type": "markdown",
   "id": "04ee715c-90f5-48fd-9385-c79f8b0566b2",
   "metadata": {},
   "source": [
    "## Importing the Libraries"
   ]
  },
  {
   "cell_type": "code",
   "execution_count": 1,
   "id": "20765f22-ad51-4d49-baaa-376163e4c99d",
   "metadata": {},
   "outputs": [],
   "source": [
    "import numpy as np\n",
    "import matplotlib.pyplot as plt\n",
    "import pandas as pd\n",
    "from sklearn.cluster import KMeans\n",
    "from sklearn.naive_bayes import GaussianNB,MultinomialNB\n",
    "from sklearn.metrics import accuracy_score,hamming_loss\n",
    "from sklearn.model_selection import train_test_split\n",
    "from sklearn.feature_extraction.text import TfidfVectorizer\n",
    "from skmultilearn.problem_transform import BinaryRelevance\n",
    "from skmultilearn.problem_transform import ClassifierChain\n",
    "from skmultilearn.problem_transform import LabelPowerset"
   ]
  },
  {
   "cell_type": "markdown",
   "id": "49853123-d7ad-4eaf-85d2-8188896b7722",
   "metadata": {},
   "source": [
    "## Now we add the dataset"
   ]
  },
  {
   "cell_type": "code",
   "execution_count": 2,
   "id": "ce7546ad-fa6a-4fd8-9e50-9e48e20ef897",
   "metadata": {},
   "outputs": [],
   "source": [
    "path = \"DataMLC.csv\""
   ]
  },
  {
   "cell_type": "code",
   "execution_count": 3,
   "id": "61078a6e-7733-4dec-9a4e-c16ba15ecdd1",
   "metadata": {},
   "outputs": [
    {
     "data": {
      "text/html": [
       "<div>\n",
       "<style scoped>\n",
       "    .dataframe tbody tr th:only-of-type {\n",
       "        vertical-align: middle;\n",
       "    }\n",
       "\n",
       "    .dataframe tbody tr th {\n",
       "        vertical-align: top;\n",
       "    }\n",
       "\n",
       "    .dataframe thead th {\n",
       "        text-align: right;\n",
       "    }\n",
       "</style>\n",
       "<table border=\"1\" class=\"dataframe\">\n",
       "  <thead>\n",
       "    <tr style=\"text-align: right;\">\n",
       "      <th></th>\n",
       "      <th>Test_age_T1</th>\n",
       "      <th>Body_height_cm_T1</th>\n",
       "      <th>Sitting_height_cm_T1</th>\n",
       "      <th>Arm_span_cm_T1</th>\n",
       "      <th>Arm_length_cm_T1</th>\n",
       "      <th>Leg_length_cm_T1</th>\n",
       "      <th>Chest_girth_cm_T1</th>\n",
       "      <th>Shoulder_width_cm_T1</th>\n",
       "      <th>Crista_width_cm_T1</th>\n",
       "      <th>Calf_girth_cm_T1</th>\n",
       "      <th>...</th>\n",
       "      <th>Eye_hand_reaction_time</th>\n",
       "      <th>Heart_rate_rest_bpm_T1</th>\n",
       "      <th>Vital_capacity_ml_T1</th>\n",
       "      <th>Sport</th>\n",
       "      <th>basketball</th>\n",
       "      <th>fencing</th>\n",
       "      <th>judo</th>\n",
       "      <th>swim</th>\n",
       "      <th>table tennis</th>\n",
       "      <th>volleyball</th>\n",
       "    </tr>\n",
       "  </thead>\n",
       "  <tbody>\n",
       "    <tr>\n",
       "      <th>0</th>\n",
       "      <td>172</td>\n",
       "      <td>181.8</td>\n",
       "      <td>91.8</td>\n",
       "      <td>184.0</td>\n",
       "      <td>78.4</td>\n",
       "      <td>97.3</td>\n",
       "      <td>79.2</td>\n",
       "      <td>36.2</td>\n",
       "      <td>27.7</td>\n",
       "      <td>33.0</td>\n",
       "      <td>...</td>\n",
       "      <td>202</td>\n",
       "      <td>69</td>\n",
       "      <td>4315</td>\n",
       "      <td>basketball</td>\n",
       "      <td>1</td>\n",
       "      <td>0</td>\n",
       "      <td>0</td>\n",
       "      <td>0</td>\n",
       "      <td>0</td>\n",
       "      <td>0</td>\n",
       "    </tr>\n",
       "    <tr>\n",
       "      <th>1</th>\n",
       "      <td>172</td>\n",
       "      <td>170.7</td>\n",
       "      <td>91.3</td>\n",
       "      <td>169.8</td>\n",
       "      <td>70.2</td>\n",
       "      <td>88.2</td>\n",
       "      <td>81.1</td>\n",
       "      <td>37.1</td>\n",
       "      <td>28.3</td>\n",
       "      <td>35.5</td>\n",
       "      <td>...</td>\n",
       "      <td>234</td>\n",
       "      <td>62</td>\n",
       "      <td>3555</td>\n",
       "      <td>basketball</td>\n",
       "      <td>1</td>\n",
       "      <td>0</td>\n",
       "      <td>0</td>\n",
       "      <td>0</td>\n",
       "      <td>0</td>\n",
       "      <td>0</td>\n",
       "    </tr>\n",
       "    <tr>\n",
       "      <th>2</th>\n",
       "      <td>178</td>\n",
       "      <td>183.0</td>\n",
       "      <td>94.1</td>\n",
       "      <td>181.4</td>\n",
       "      <td>76.8</td>\n",
       "      <td>95.8</td>\n",
       "      <td>80.0</td>\n",
       "      <td>39.4</td>\n",
       "      <td>28.2</td>\n",
       "      <td>34.8</td>\n",
       "      <td>...</td>\n",
       "      <td>233</td>\n",
       "      <td>76</td>\n",
       "      <td>4450</td>\n",
       "      <td>basketball</td>\n",
       "      <td>1</td>\n",
       "      <td>0</td>\n",
       "      <td>0</td>\n",
       "      <td>0</td>\n",
       "      <td>0</td>\n",
       "      <td>0</td>\n",
       "    </tr>\n",
       "    <tr>\n",
       "      <th>3</th>\n",
       "      <td>178</td>\n",
       "      <td>184.2</td>\n",
       "      <td>93.0</td>\n",
       "      <td>188.8</td>\n",
       "      <td>82.4</td>\n",
       "      <td>99.6</td>\n",
       "      <td>78.3</td>\n",
       "      <td>36.4</td>\n",
       "      <td>27.9</td>\n",
       "      <td>33.1</td>\n",
       "      <td>...</td>\n",
       "      <td>201</td>\n",
       "      <td>75</td>\n",
       "      <td>4045</td>\n",
       "      <td>basketball</td>\n",
       "      <td>1</td>\n",
       "      <td>0</td>\n",
       "      <td>0</td>\n",
       "      <td>0</td>\n",
       "      <td>0</td>\n",
       "      <td>0</td>\n",
       "    </tr>\n",
       "    <tr>\n",
       "      <th>4</th>\n",
       "      <td>184</td>\n",
       "      <td>184.7</td>\n",
       "      <td>96.6</td>\n",
       "      <td>183.5</td>\n",
       "      <td>78.7</td>\n",
       "      <td>97.0</td>\n",
       "      <td>91.8</td>\n",
       "      <td>37.7</td>\n",
       "      <td>26.8</td>\n",
       "      <td>34.6</td>\n",
       "      <td>...</td>\n",
       "      <td>190</td>\n",
       "      <td>60</td>\n",
       "      <td>4145</td>\n",
       "      <td>basketball</td>\n",
       "      <td>1</td>\n",
       "      <td>0</td>\n",
       "      <td>0</td>\n",
       "      <td>0</td>\n",
       "      <td>0</td>\n",
       "      <td>0</td>\n",
       "    </tr>\n",
       "  </tbody>\n",
       "</table>\n",
       "<p>5 rows × 29 columns</p>\n",
       "</div>"
      ],
      "text/plain": [
       "   Test_age_T1  Body_height_cm_T1  Sitting_height_cm_T1  Arm_span_cm_T1  \\\n",
       "0          172              181.8                  91.8           184.0   \n",
       "1          172              170.7                  91.3           169.8   \n",
       "2          178              183.0                  94.1           181.4   \n",
       "3          178              184.2                  93.0           188.8   \n",
       "4          184              184.7                  96.6           183.5   \n",
       "\n",
       "   Arm_length_cm_T1  Leg_length_cm_T1  Chest_girth_cm_T1  \\\n",
       "0              78.4              97.3               79.2   \n",
       "1              70.2              88.2               81.1   \n",
       "2              76.8              95.8               80.0   \n",
       "3              82.4              99.6               78.3   \n",
       "4              78.7              97.0               91.8   \n",
       "\n",
       "   Shoulder_width_cm_T1  Crista_width_cm_T1  Calf_girth_cm_T1  ...  \\\n",
       "0                  36.2                27.7              33.0  ...   \n",
       "1                  37.1                28.3              35.5  ...   \n",
       "2                  39.4                28.2              34.8  ...   \n",
       "3                  36.4                27.9              33.1  ...   \n",
       "4                  37.7                26.8              34.6  ...   \n",
       "\n",
       "   Eye_hand_reaction_time  Heart_rate_rest_bpm_T1  Vital_capacity_ml_T1  \\\n",
       "0                     202                      69                  4315   \n",
       "1                     234                      62                  3555   \n",
       "2                     233                      76                  4450   \n",
       "3                     201                      75                  4045   \n",
       "4                     190                      60                  4145   \n",
       "\n",
       "        Sport  basketball  fencing  judo  swim  table tennis  volleyball  \n",
       "0  basketball           1        0     0     0             0           0  \n",
       "1  basketball           1        0     0     0             0           0  \n",
       "2  basketball           1        0     0     0             0           0  \n",
       "3  basketball           1        0     0     0             0           0  \n",
       "4  basketball           1        0     0     0             0           0  \n",
       "\n",
       "[5 rows x 29 columns]"
      ]
     },
     "execution_count": 3,
     "metadata": {},
     "output_type": "execute_result"
    }
   ],
   "source": [
    "dataset = pd.read_csv(path)\n",
    "dataset.head()"
   ]
  },
  {
   "cell_type": "code",
   "execution_count": 4,
   "id": "5618683a-e343-42bf-b459-3533391523b1",
   "metadata": {},
   "outputs": [
    {
     "data": {
      "text/plain": [
       "Test_age_T1                    int64\n",
       "Body_height_cm_T1            float64\n",
       "Sitting_height_cm_T1         float64\n",
       "Arm_span_cm_T1               float64\n",
       "Arm_length_cm_T1             float64\n",
       "Leg_length_cm_T1             float64\n",
       "Chest_girth_cm_T1            float64\n",
       "Shoulder_width_cm_T1         float64\n",
       "Crista_width_cm_T1           float64\n",
       "Calf_girth_cm_T1             float64\n",
       "Thigh_circumference_cm_T1    float64\n",
       "Waist_girth_cm_T1            float64\n",
       "LowerLeg_length_cm_T1        float64\n",
       "Ankle_circumference_cm_T1    float64\n",
       "Subscapular_angle_mm_T1      float64\n",
       "Abdomen_mm_T1                float64\n",
       "Upper_arm_mm_T1              float64\n",
       "Tendon_length_cm_T1          float64\n",
       "Body_weight_kg_T1            float64\n",
       "Eye_hand_reaction_time         int64\n",
       "Heart_rate_rest_bpm_T1         int64\n",
       "Vital_capacity_ml_T1           int64\n",
       "Sport                         object\n",
       "basketball                     int64\n",
       "fencing                        int64\n",
       "judo                           int64\n",
       "swim                           int64\n",
       "table tennis                   int64\n",
       "volleyball                     int64\n",
       "dtype: object"
      ]
     },
     "execution_count": 4,
     "metadata": {},
     "output_type": "execute_result"
    }
   ],
   "source": [
    "dataset.dtypes"
   ]
  },
  {
   "cell_type": "markdown",
   "id": "d7291afb-982a-47b5-b685-adc40da8635e",
   "metadata": {},
   "source": [
    "## Data Preprocessing"
   ]
  },
  {
   "cell_type": "code",
   "execution_count": 5,
   "id": "acf4a1c0-1ddf-4c8c-91e3-7e5b98d1a60f",
   "metadata": {},
   "outputs": [
    {
     "data": {
      "text/plain": [
       "Test_age_T1                    int64\n",
       "Body_height_cm_T1            float64\n",
       "Sitting_height_cm_T1         float64\n",
       "Arm_span_cm_T1               float64\n",
       "Arm_length_cm_T1             float64\n",
       "Leg_length_cm_T1             float64\n",
       "Chest_girth_cm_T1            float64\n",
       "Shoulder_width_cm_T1         float64\n",
       "Crista_width_cm_T1           float64\n",
       "Calf_girth_cm_T1             float64\n",
       "Thigh_circumference_cm_T1    float64\n",
       "Waist_girth_cm_T1            float64\n",
       "LowerLeg_length_cm_T1        float64\n",
       "Ankle_circumference_cm_T1    float64\n",
       "Subscapular_angle_mm_T1      float64\n",
       "Abdomen_mm_T1                float64\n",
       "Upper_arm_mm_T1              float64\n",
       "Tendon_length_cm_T1          float64\n",
       "Body_weight_kg_T1            float64\n",
       "Eye_hand_reaction_time         int64\n",
       "Heart_rate_rest_bpm_T1         int64\n",
       "Vital_capacity_ml_T1           int64\n",
       "Sport                          int32\n",
       "basketball                     int64\n",
       "fencing                        int64\n",
       "judo                           int64\n",
       "swim                           int64\n",
       "table tennis                   int64\n",
       "volleyball                     int64\n",
       "dtype: object"
      ]
     },
     "execution_count": 5,
     "metadata": {},
     "output_type": "execute_result"
    }
   ],
   "source": [
    "from sklearn.preprocessing import LabelEncoder\n",
    "from sklearn import utils\n",
    "le = LabelEncoder()\n",
    "dataset[\"Sport\"] = le.fit_transform(dataset[\"Sport\"])\n",
    "dataset.dtypes"
   ]
  },
  {
   "cell_type": "code",
   "execution_count": 6,
   "id": "ed137373-a65c-4525-928d-6b52eae4d534",
   "metadata": {},
   "outputs": [],
   "source": [
    "z = dataset.iloc[:, 18].values\n",
    "X = dataset.iloc[:, [1,18,4,5,6]].values\n",
    "y = dataset.iloc[:, [23,24,25,26,27,28]].values"
   ]
  },
  {
   "cell_type": "markdown",
   "id": "3d91546c-3aae-487e-b2f9-20cb872aafef",
   "metadata": {},
   "source": [
    "## Divide the data into train and test datasets into 70% training and 30% testing"
   ]
  },
  {
   "cell_type": "code",
   "execution_count": 7,
   "id": "393a74d5-141a-4bc6-991a-b95f0c1ae7e7",
   "metadata": {},
   "outputs": [],
   "source": [
    "from sklearn.model_selection import train_test_split\n",
    "X_train, X_test, y_train, y_test = train_test_split(X, y, test_size = 0.30, random_state = 17)"
   ]
  },
  {
   "cell_type": "markdown",
   "id": "bda92b74-8998-4cdd-acef-0409d607fda2",
   "metadata": {},
   "source": [
    "# Multi-label classification Model"
   ]
  },
  {
   "cell_type": "markdown",
   "id": "769ed9c0-9ae9-4a61-b9c0-7df1b3f3e950",
   "metadata": {},
   "source": [
    "### Binary Relevance Technique"
   ]
  },
  {
   "cell_type": "markdown",
   "id": "72233e11-f4f4-4320-9363-ab61249984e8",
   "metadata": {},
   "source": [
    "#### Naive Bayes "
   ]
  },
  {
   "cell_type": "code",
   "execution_count": 8,
   "id": "9b1b396f-5786-41e0-ad91-8b4745101261",
   "metadata": {},
   "outputs": [
    {
     "name": "stdout",
     "output_type": "stream",
     "text": [
      "Accuracy =  0.32142857142857145\n"
     ]
    }
   ],
   "source": [
    "from sklearn.linear_model import LogisticRegression\n",
    "\n",
    "# initialize binary relevance multi-label classifier\n",
    "# with a gaussian naive bayes base classifier\n",
    "classifier = BinaryRelevance(GaussianNB())\n",
    "# train\n",
    "classifier.fit(X_train, y_train)\n",
    "# predict\n",
    "predictions = classifier.predict(X_test)\n",
    "# accuracy\n",
    "print(\"Accuracy = \",accuracy_score(y_test,predictions))"
   ]
  },
  {
   "cell_type": "markdown",
   "id": "30ed5a4d-c071-49d8-a4a6-555fe1506276",
   "metadata": {},
   "source": [
    "#### Logistic Regression"
   ]
  },
  {
   "cell_type": "code",
   "execution_count": 9,
   "id": "ade370c2-1a3d-491c-8b4d-d6ba3b6f9ac1",
   "metadata": {},
   "outputs": [
    {
     "data": {
      "text/plain": [
       "0.35714285714285715"
      ]
     },
     "execution_count": 9,
     "metadata": {},
     "output_type": "execute_result"
    }
   ],
   "source": [
    "from sklearn.linear_model import LogisticRegression\n",
    "binary_rel_clf = BinaryRelevance(LogisticRegression())\n",
    "binary_rel_clf.fit(X_train,y_train)\n",
    "BinaryRelevance(classifier=LogisticRegression(),\n",
    "                require_dense=[True, True])\n",
    "br_prediction = binary_rel_clf.predict(X_test)\n",
    "accuracy_score(y_test,br_prediction)"
   ]
  },
  {
   "cell_type": "markdown",
   "id": "2bd4ce9e-ade4-4364-aa95-5d470a659190",
   "metadata": {},
   "source": [
    "#### KNN 71%"
   ]
  },
  {
   "cell_type": "code",
   "execution_count": 10,
   "id": "c2ae9f9f-76ea-4a3d-96bc-0ec0c1b26c2d",
   "metadata": {},
   "outputs": [
    {
     "data": {
      "text/plain": [
       "0.7142857142857143"
      ]
     },
     "execution_count": 10,
     "metadata": {},
     "output_type": "execute_result"
    }
   ],
   "source": [
    "\n",
    "from sklearn.neighbors import KNeighborsClassifier\n",
    "binary_rel_clf = BinaryRelevance(KNeighborsClassifier(n_neighbors = 1))\n",
    "binary_rel_clf.fit(X_train,y_train)\n",
    "BinaryRelevance(classifier=KNeighborsClassifier(),require_dense=[True, True])\n",
    "br_prediction = binary_rel_clf.predict(X_test)\n",
    "accuracy_score(y_test,br_prediction)\n"
   ]
  },
  {
   "cell_type": "markdown",
   "id": "6b12c20b-d8ab-41cc-a4c7-635e86ab1551",
   "metadata": {},
   "source": [
    "## Classifier Chains Technique 20%"
   ]
  },
  {
   "cell_type": "code",
   "execution_count": 11,
   "id": "37f181fc-42bb-4b96-9d38-804eb7c5a18e",
   "metadata": {},
   "outputs": [],
   "source": [
    "def build_model(model,mlb_estimator,xtrain,ytrain,xtest,ytest):\n",
    "    clf = mlb_estimator(model)\n",
    "    clf.fit(xtrain,ytrain)\n",
    "    clf_predictions = clf.predict(xtest)\n",
    "    acc = accuracy_score(ytest,clf_predictions)\n",
    "    ham = hamming_loss(ytest,clf_predictions)\n",
    "    result = {\"accuracy:\":acc,\"hamming_score\":ham, \"predictions\":clf_predictions.toarray()}\n",
    "    return result"
   ]
  },
  {
   "cell_type": "code",
   "execution_count": 12,
   "id": "5adb9d5c-00ff-46f7-8e79-cf11cec04397",
   "metadata": {},
   "outputs": [
    {
     "data": {
      "text/plain": [
       "{'accuracy:': 0.25,\n",
       " 'hamming_score': 0.14285714285714285,\n",
       " 'predictions': array([[0., 0., 0., 0., 1., 0.],\n",
       "        [0., 1., 0., 0., 0., 0.],\n",
       "        [1., 0., 0., 0., 0., 0.],\n",
       "        [0., 0., 0., 0., 0., 0.],\n",
       "        [0., 0., 0., 0., 0., 1.],\n",
       "        [1., 0., 0., 0., 0., 0.],\n",
       "        [0., 0., 0., 0., 0., 0.],\n",
       "        [0., 0., 0., 0., 0., 0.],\n",
       "        [0., 0., 0., 0., 0., 0.],\n",
       "        [0., 0., 0., 0., 0., 0.],\n",
       "        [0., 0., 0., 0., 0., 0.],\n",
       "        [0., 0., 0., 0., 0., 0.],\n",
       "        [0., 0., 0., 0., 0., 0.],\n",
       "        [0., 0., 0., 0., 0., 0.],\n",
       "        [0., 0., 0., 0., 0., 0.],\n",
       "        [0., 0., 0., 0., 0., 0.],\n",
       "        [0., 0., 0., 0., 0., 0.],\n",
       "        [0., 0., 0., 0., 0., 0.],\n",
       "        [0., 0., 1., 0., 0., 0.],\n",
       "        [0., 0., 0., 0., 0., 1.],\n",
       "        [0., 0., 0., 0., 0., 1.],\n",
       "        [0., 1., 0., 0., 0., 0.],\n",
       "        [0., 0., 0., 0., 0., 1.],\n",
       "        [0., 0., 0., 0., 0., 0.],\n",
       "        [0., 0., 0., 0., 0., 0.],\n",
       "        [0., 0., 0., 0., 0., 0.],\n",
       "        [0., 0., 0., 0., 0., 0.],\n",
       "        [0., 0., 0., 0., 0., 0.]])}"
      ]
     },
     "execution_count": 12,
     "metadata": {},
     "output_type": "execute_result"
    }
   ],
   "source": [
    "clf_chain_model = build_model(KNeighborsClassifier(n_neighbors = 6),ClassifierChain,X_train,y_train,X_test,y_test)\n",
    "clf_chain_model\n"
   ]
  },
  {
   "cell_type": "markdown",
   "id": "87011eb1-6303-4d8b-8f5d-6ddcb94aa4a0",
   "metadata": {},
   "source": [
    "### Labelpowerset Technique 60%"
   ]
  },
  {
   "cell_type": "code",
   "execution_count": 13,
   "id": "b00e2045-be2b-420e-912d-dee2716533ec",
   "metadata": {},
   "outputs": [],
   "source": [
    "clf_labelP_model = build_model(MultinomialNB(),LabelPowerset,X_train,y_train,X_test,y_test)\n"
   ]
  },
  {
   "cell_type": "code",
   "execution_count": 14,
   "id": "e730150f-b6aa-4e61-992c-85d8c6028937",
   "metadata": {},
   "outputs": [
    {
     "data": {
      "text/plain": [
       "{'accuracy:': 0.5,\n",
       " 'hamming_score': 0.16666666666666666,\n",
       " 'predictions': array([[0, 1, 0, 0, 0, 0],\n",
       "        [0, 1, 0, 0, 0, 0],\n",
       "        [0, 1, 0, 0, 0, 0],\n",
       "        [0, 1, 0, 0, 0, 0],\n",
       "        [0, 0, 0, 0, 0, 1],\n",
       "        [0, 1, 0, 0, 0, 0],\n",
       "        [0, 0, 1, 0, 0, 0],\n",
       "        [0, 0, 1, 0, 0, 0],\n",
       "        [0, 1, 0, 0, 0, 0],\n",
       "        [0, 0, 0, 0, 0, 1],\n",
       "        [0, 0, 1, 0, 0, 0],\n",
       "        [0, 1, 0, 0, 0, 0],\n",
       "        [0, 1, 0, 0, 0, 0],\n",
       "        [0, 0, 1, 0, 0, 0],\n",
       "        [0, 1, 0, 0, 0, 0],\n",
       "        [0, 1, 0, 0, 0, 0],\n",
       "        [0, 0, 0, 0, 0, 1],\n",
       "        [0, 1, 0, 0, 0, 0],\n",
       "        [0, 0, 1, 0, 0, 0],\n",
       "        [0, 0, 0, 0, 0, 1],\n",
       "        [0, 1, 0, 0, 0, 0],\n",
       "        [0, 1, 0, 0, 0, 0],\n",
       "        [0, 0, 0, 0, 0, 1],\n",
       "        [0, 1, 0, 0, 0, 0],\n",
       "        [0, 1, 0, 0, 0, 0],\n",
       "        [0, 1, 0, 0, 0, 0],\n",
       "        [0, 1, 0, 0, 0, 0],\n",
       "        [0, 1, 0, 0, 0, 0]], dtype=int64)}"
      ]
     },
     "execution_count": 14,
     "metadata": {},
     "output_type": "execute_result"
    }
   ],
   "source": [
    "clf_labelP_model\n"
   ]
  },
  {
   "cell_type": "code",
   "execution_count": null,
   "id": "2fbd6078-1c3d-402f-b610-14d2ab7b74c1",
   "metadata": {},
   "outputs": [],
   "source": []
  },
  {
   "cell_type": "code",
   "execution_count": null,
   "id": "5833255d-f08b-464d-ba18-84991b01d77c",
   "metadata": {},
   "outputs": [],
   "source": []
  },
  {
   "cell_type": "code",
   "execution_count": null,
   "id": "2791066e-f260-46b7-84d0-a336f48b2c5d",
   "metadata": {},
   "outputs": [],
   "source": []
  },
  {
   "cell_type": "code",
   "execution_count": null,
   "id": "e693a734-348c-4332-840a-1e179f9af940",
   "metadata": {},
   "outputs": [],
   "source": []
  },
  {
   "cell_type": "code",
   "execution_count": null,
   "id": "52d898f5-d33a-46b5-ad64-de46ebc532c7",
   "metadata": {},
   "outputs": [],
   "source": []
  },
  {
   "cell_type": "code",
   "execution_count": null,
   "id": "a5e9d01b-49f7-416d-9238-5459f3fecf80",
   "metadata": {},
   "outputs": [],
   "source": []
  },
  {
   "cell_type": "code",
   "execution_count": 15,
   "id": "c9d20a5a-533f-4620-a5e1-75be5c13fc58",
   "metadata": {},
   "outputs": [],
   "source": [
    "from sklearn.preprocessing import StandardScaler\n",
    "scaler = StandardScaler()\n",
    "scaler.fit(X_train)\n",
    "X_train = scaler.transform(X_train)\n",
    "X_test = scaler.transform(X_test)"
   ]
  },
  {
   "cell_type": "code",
   "execution_count": null,
   "id": "64ca0a0f-75f5-4068-b9f2-65b65b549c8a",
   "metadata": {},
   "outputs": [],
   "source": []
  },
  {
   "cell_type": "code",
   "execution_count": 469,
   "id": "58a597e5-d368-4ff5-b374-39b5a7a28596",
   "metadata": {},
   "outputs": [],
   "source": []
  },
  {
   "cell_type": "code",
   "execution_count": null,
   "id": "bbcdb7b3-a35b-4301-9c76-e594e1292153",
   "metadata": {},
   "outputs": [],
   "source": []
  },
  {
   "cell_type": "code",
   "execution_count": null,
   "id": "e294a09d-bf4f-4a77-bc93-09bedaa11fe9",
   "metadata": {},
   "outputs": [],
   "source": []
  }
 ],
 "metadata": {
  "kernelspec": {
   "display_name": "Python 3 (ipykernel)",
   "language": "python",
   "name": "python3"
  },
  "language_info": {
   "codemirror_mode": {
    "name": "ipython",
    "version": 3
   },
   "file_extension": ".py",
   "mimetype": "text/x-python",
   "name": "python",
   "nbconvert_exporter": "python",
   "pygments_lexer": "ipython3",
   "version": "3.9.7"
  }
 },
 "nbformat": 4,
 "nbformat_minor": 5
}
